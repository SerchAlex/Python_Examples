{
 "cells": [
  {
   "cell_type": "markdown",
   "metadata": {},
   "source": [
    "# $$ Python Basics $$"
   ]
  },
  {
   "cell_type": "markdown",
   "metadata": {},
   "source": [
    "##  Tipo de datos \n",
    "### Numeros, Datos, Cadena de texto"
   ]
  },
  {
   "cell_type": "code",
   "execution_count": 50,
   "metadata": {},
   "outputs": [],
   "source": [
    "import time"
   ]
  },
  {
   "cell_type": "code",
   "execution_count": 51,
   "metadata": {},
   "outputs": [],
   "source": [
    "# *********************\n",
    "# VOLUMEN DE UNA ESFERA\n",
    "# *********************\n",
    "\n",
    "def run(radius: float) -> float:\n",
    "    volume = (4 / 3) * 3.14 * radius ** 3 \n",
    "\n",
    "    return volume\n",
    "\n",
    "if __name__ == '__main__':\n",
    "    run(5)"
   ]
  },
  {
   "cell_type": "code",
   "execution_count": 52,
   "metadata": {},
   "outputs": [
    {
     "data": {
      "text/plain": [
       "'50.24'"
      ]
     },
     "execution_count": 52,
     "metadata": {},
     "output_type": "execute_result"
    }
   ],
   "source": [
    "# Escriba un programa en Python que acepte el radio de un círculo y compute su área.\n",
    "\n",
    "def circle_area(radius):\n",
    "    area = 3.14 * radius ** 2\n",
    "    return f'{area}'\n",
    "circle_area(4)"
   ]
  },
  {
   "cell_type": "code",
   "execution_count": 53,
   "metadata": {},
   "outputs": [],
   "source": [
    "#Ejercicio\n",
    "# Escriba un programa en Python que lea por teclado dos números enteros y muestre por\n",
    "# pantalla el resultado de realizar las operaciones básicas entre ellos.\n",
    "\n",
    "def calculator():\n",
    "    num1 = int(input('Escriba un numero: '))\n",
    "    num2 = int(input('Escriba otro numero: '))\n",
    "    sum = num1 + num2\n",
    "    sub = num1 - num2\n",
    "    prod = num1 * num2\n",
    "    \n",
    "    try:\n",
    "        div = num1 / num2\n",
    "    except ZeroDivisionError:\n",
    "        print('Num2 tiene valor cero, eliga otro numero.')\n",
    "        calculator()\n",
    "        return\n",
    "    print(' Suma: ', sum,'\\n','Resta: ', sub,'\\n', 'Division: ', div, '\\n', 'Multiplicacion: ', prod)\n",
    "\n",
    "calculator()"
   ]
  },
  {
   "cell_type": "code",
   "execution_count": null,
   "metadata": {},
   "outputs": [
    {
     "data": {
      "text/plain": [
       "'This is a terrible night on the Atlantic'"
      ]
     },
     "execution_count": 21,
     "metadata": {},
     "output_type": "execute_result"
    }
   ],
   "source": [
    "# ******************\n",
    "# LA PALABRA PERDIDA\n",
    "# ******************\n",
    "\n",
    "def run(text: str, target_word: str, replace_word: str) -> str:\n",
    "    # TU CÓDIGO AQUÍ\n",
    "    indx = text.index(target_word)\n",
    "    mtext = text[:indx] + replace_word + text[indx + len(target_word):]\n",
    "\n",
    "    return mtext\n",
    "\n",
    "\n",
    "run('This is a beautiful night on the Atlantic', 'beautiful', 'terrible')"
   ]
  },
  {
   "cell_type": "code",
   "execution_count": null,
   "metadata": {},
   "outputs": [
    {
     "name": "stdout",
     "output_type": "stream",
     "text": [
      "2.718\n",
      "2.718280\n",
      "    2.71828\n",
      "00002.71828\n",
      "     2.71828\n"
     ]
    }
   ],
   "source": [
    "# Dada la variable:\n",
    "e = 2.71828\n",
    "# obtenga los siguientes resultados utilizando «f-strings»:\n",
    "#2.718\t\n",
    "#2.718280\t\n",
    "#\t  2.72\t # 4 espacios en blanco\n",
    "#2.718280e+00\t\n",
    "#00002.7183\t\n",
    "#\t  2.71828\t # 12 espacios en blanco\n",
    "\n",
    "print(f'{e:.3f}\\n{e:.6f}\\n{e:11.5f}\\n{e:011.5f}\\n{e:12.5f}')\n"
   ]
  },
  {
   "cell_type": "code",
   "execution_count": null,
   "metadata": {},
   "outputs": [
    {
     "name": "stdout",
     "output_type": "stream",
     "text": [
      "Delgado Quintero, Sergio\n"
     ]
    }
   ],
   "source": [
    "def run(name: str, surname: str) -> str:\n",
    "    # TU CÓDIGO AQUÍ\n",
    "    \n",
    "    fullname = f'{surname}, {name}'\n",
    "\n",
    "    return fullname\n",
    "\n",
    "if __name__ == '__main__':\n",
    "    print(run('Sergio', 'Delgado Quintero'))"
   ]
  },
  {
   "cell_type": "code",
   "execution_count": null,
   "metadata": {},
   "outputs": [
    {
     "name": "stdout",
     "output_type": "stream",
     "text": [
      "('1.1.1.1', '/aprende/python')\n"
     ]
    }
   ],
   "source": [
    "# ***********************\n",
    "# SEPARANDO RECURSO SAMBA\n",
    "# Dada una ruta remota de recurso samba debe separar el nombre del equipo (IP) y la ruta.\n",
    "# ***********************\n",
    "\n",
    "def run(smb_path: str) -> tuple:\n",
    "    # TU CÓDIGO AQUÍ\n",
    "    \n",
    "    #host = path = 'output'\n",
    "    host = smb_path[:smb_path.index('/', 3)]\n",
    "    path = smb_path[smb_path.index('/', 3):]\n",
    "    host = host.strip('/')\n",
    "\n",
    "    return host, path\n",
    "\n",
    "if __name__ == '__main__':\n",
    "    print(run('//1.1.1.1/aprende/python'))"
   ]
  },
  {
   "cell_type": "code",
   "execution_count": null,
   "metadata": {},
   "outputs": [
    {
     "name": "stdout",
     "output_type": "stream",
     "text": [
      "78654355J\n"
     ]
    }
   ],
   "source": [
    "# *************************\n",
    "# DÍGITO DE CONTROL DEL NIF\n",
    "# Se pide obtener el dígito de control de un NIF de entrada.\n",
    "# *************************\n",
    "\n",
    "def run(nif: str) -> str:\n",
    "    # TU CÓDIGO AQUÍ\n",
    "    letters = 'TRWAGMYFPDXBNJZSQVHLCKE'\n",
    "    div = int(nif) % 23\n",
    "    wnif = nif + letters[div]\n",
    "\n",
    "    return wnif\n",
    "\n",
    "if __name__ == '__main__':\n",
    "    print(run('78654355'))"
   ]
  },
  {
   "cell_type": "code",
   "execution_count": null,
   "metadata": {},
   "outputs": [
    {
     "name": "stdout",
     "output_type": "stream",
     "text": [
      "615\n"
     ]
    }
   ],
   "source": [
    "# *************\n",
    "# SUMA REPETIDA\n",
    "# Dado un número entero n compute el valor de n + nn + nnn                                                            │\n",
    "# Notas:                                                                                                              \n",
    "# • Por ejemplo, si n=2 hay que calcular: 2 + 22 + 222 = 246                                                         \n",
    "# • Contemplar únicamente n en el intervalo [0,9]\n",
    "# *************\n",
    "\n",
    "def run(n: int) -> int:\n",
    "    # TU CÓDIGO AQUÍ\n",
    "    if n <= 9:\n",
    "        result = n + int(str(n) * 2) + int(str(n) * 3)\n",
    "        return result\n",
    "    result = None\n",
    "\n",
    "if __name__ == '__main__':\n",
    "    print(run(5))"
   ]
  },
  {
   "cell_type": "code",
   "execution_count": null,
   "metadata": {},
   "outputs": [
    {
     "name": "stdout",
     "output_type": "stream",
     "text": [
      "36\n"
     ]
    }
   ],
   "source": [
    "# ********************************\n",
    "# UNA MÉTRICA PARA CADENA DE TEXTO\n",
    "# Calcule la siguiente métrica para una cadena de texto dada: Número total de caracteres multiplicado por número      │\n",
    "# total de vocales.\n",
    "# ********************************\n",
    "\n",
    "def run(text: str) -> int:\n",
    "    # TU CÓDIGO AQUÍ\n",
    "    vowels = 'aeiou'\n",
    "    metric = [text.count(i) for i in vowels if i in text]\n",
    "    return sum(metric) * len(text)\n",
    "\n",
    "\n",
    "if __name__ == '__main__':\n",
    "    print(run('ordenador'))"
   ]
  },
  {
   "cell_type": "code",
   "execution_count": null,
   "metadata": {},
   "outputs": [
    {
     "name": "stdout",
     "output_type": "stream",
     "text": [
      "sheep...sheep...sheep...sheep...sheep...\n"
     ]
    }
   ],
   "source": [
    "# ***************\n",
    "# CONTANDO OVEJAS\n",
    "#  No te puedes dormir, pero afortunadamente un programa Python te ayuda a ello. Dado un número entero num_sheeps      │\n",
    "# devuelve la cuenta de las ovejas...\n",
    "# ***************\n",
    "\n",
    "def run(num_sheeps: int) -> str:\n",
    "    # TU CÓDIGO AQUÍ\n",
    "    sleep = num_sheeps * ('sheep...')\n",
    "    return sleep\n",
    "\n",
    "\n",
    "if __name__ == '__main__':\n",
    "    print(run(5))"
   ]
  },
  {
   "cell_type": "code",
   "execution_count": null,
   "metadata": {},
   "outputs": [
    {
     "name": "stdout",
     "output_type": "stream",
     "text": [
      "hat can I d\n"
     ]
    }
   ],
   "source": [
    "# *************************\n",
    "# QUITANDO PRIMERO Y ÚLTIMO\n",
    "# Dada una cadena de texto, se pide eliminar el primer y el último caracter de dicha cadena de texto.\n",
    "# *************************\n",
    "\n",
    "def run(text: str) -> str:\n",
    "    # TU CÓDIGO AQUÍ\n",
    "    stext = text[1:-1]\n",
    "    return stext\n",
    "\n",
    "\n",
    "if __name__ == '__main__':\n",
    "    print(run('What can I do'))"
   ]
  },
  {
   "cell_type": "code",
   "execution_count": null,
   "metadata": {},
   "outputs": [
    {
     "name": "stdout",
     "output_type": "stream",
     "text": [
      "('1', '2')\n"
     ]
    }
   ],
   "source": [
    "# ****************************************\n",
    "# ENCONTRANDO EL PRIMER Y EL ÚLTIMO DÍGITO\n",
    "# Determine el primer y el último dígito de una cadena de texto dada.\n",
    "# ****************************************\n",
    "\n",
    "def run(text: str) -> tuple:\n",
    "    # TU CÓDIGO AQUÍ\n",
    "    numeric = '0123456789'\n",
    "    first_digit = [i for i in text if i in numeric]\n",
    "    last_digit = [i for i in text[::-1] if i in numeric]\n",
    "    return *first_digit[0], *last_digit[0]\n",
    "\n",
    "\n",
    "if __name__ == '__main__':\n",
    "    print(run('1abc2'))"
   ]
  },
  {
   "cell_type": "code",
   "execution_count": null,
   "metadata": {},
   "outputs": [
    {
     "name": "stdout",
     "output_type": "stream",
     "text": [
      "-15\n"
     ]
    }
   ],
   "source": [
    "# *************************\n",
    "# LA MULTIPLICACIÓN DE JACK\n",
    "# A Jack le gusta hacer una multiplicación muy particular: Dado un número n multiplica n por 5 elevado al número de   │\n",
    "# dígitos de n.                                                                                                       │\n",
    "# Por ejemplo:                                                                                                        │\n",
    "#  n = 10 --> 10 * 5²\n",
    "# *************************\n",
    "\n",
    "def run(n: int) -> int:\n",
    "    # TU CÓDIGO AQUÍ\n",
    "    if n >= 0:\n",
    "        result = n * (5 ** int(len(str(n)))) \n",
    "    else:\n",
    "        result = n * (5 ** int(len(str(n * -1))))\n",
    "    return result\n",
    "\n",
    "\n",
    "if __name__ == '__main__':\n",
    "    print(run(-3))"
   ]
  },
  {
   "cell_type": "code",
   "execution_count": null,
   "metadata": {},
   "outputs": [
    {
     "name": "stdout",
     "output_type": "stream",
     "text": [
      "['90', '2']\n",
      "30x^3\n"
     ]
    }
   ],
   "source": [
    "# *********************\n",
    "# ENCUENTRA LA INTEGRAL\n",
    "# La entrada será una cadena de texto con dos números separados por una coma. El primer número es el coeficiente y el │\n",
    "# segundo número es el exponente. Por ejemplo:                                                                                                                                                                                           │\n",
    "#  3,2 --> 3x^2                                                                                                                                                                                                                       │\n",
    "# Para obtener la integral tenemos que añadir 1 al exponente y dividir el coeficiente por dicho número. En el ejemplo │\n",
    "# anterior:                                                                                                           │                                                                                                                     │\n",
    "#  3x^2 --> 1x^3                                                                                                      │                                                                                                                     │\n",
    "# NOTA: No se puede utilizar la función split()\n",
    "# *********************\n",
    "\n",
    "def run(symbol: str) -> str:\n",
    "    # TU CÓDIGO AQUÍ\n",
    "    array = ['', '']\n",
    "    cont = 0\n",
    "    for i in symbol:\n",
    "        if i.isnumeric():\n",
    "            array[cont] += i\n",
    "            if len(array[cont]) == 2:\n",
    "                cont += 1\n",
    "    print(array)\n",
    "    coef = int(array[0]) / (int(array[1]) + 1) \n",
    "    integral = str(round(coef)) + 'x^' + str(int(array[1]) + 1)\n",
    "    return   integral\n",
    "\n",
    "if __name__ == '__main__':\n",
    "    print(run('90,2'))"
   ]
  },
  {
   "cell_type": "markdown",
   "metadata": {},
   "source": [
    "## Control de flujo\n",
    "### Condicionales y bucles\n"
   ]
  },
  {
   "cell_type": "code",
   "execution_count": 41,
   "metadata": {},
   "outputs": [
    {
     "name": "stdout",
     "output_type": "stream",
     "text": [
      "False\n"
     ]
    }
   ],
   "source": [
    "# **************\n",
    "# AÑOS BISIESTOS\n",
    "# │ Dada una variable year con un valor entero, compruebe si dicho año es bisiesto o no lo es.                          │\n",
    "# Un año es bisiesto en el calendario Gregoriano, si es divisible entre 4 y no divisible entre 100, o bien si es      │\n",
    "# divisible entre 400. Puede hacer la comprobación en esta lista de años bisiestos.\n",
    "# **************\n",
    "\n",
    "def run(year: int) -> bool:\n",
    "    # TU CÓDIGO AQUÍ5\n",
    "    is_leap_year = True if year % 4 == 0 and year % 100 != 0 or year % 400 == 0 else False \n",
    "    return is_leap_year\n",
    "\n",
    "if __name__ == '__main__':\n",
    "    print(run(1997))"
   ]
  },
  {
   "cell_type": "code",
   "execution_count": null,
   "metadata": {},
   "outputs": [
    {
     "name": "stdout",
     "output_type": "stream",
     "text": [
      "Black Bolt\n"
     ]
    }
   ],
   "source": [
    "# *******************************\n",
    "# ADIVINANDO PERSONAJES DE MARVEL\n",
    "# Implemente un \"clon\" de Akinator que permita adivinar el personaje de Marvel en base a las tres preguntas siguientes:                                                   │\n",
    "#  1 ¿Puede volar? → Se representa por la variable de entrada: can_fly                                                                                                    │\n",
    "#  2 ¿Es humano? → Se representa por la variable de entrada: is_human                                                                                                     │\n",
    "#  3 ¿Tiene máscara? → Se representa por la variable de entrada: has_mask\n",
    "# *******************************\n",
    "\n",
    "\n",
    "def run() -> str:\n",
    "    # TU CÓDIGO AQUÍ\n",
    "    # can_fly: bool, is_human: bool, has_mask: bool\n",
    "    can_fly = int(input('Puede volar?'))\n",
    "    is_human = int(input('Es humano?'))\n",
    "    has_mask = int(input('Tiene mascara?'))\n",
    "  \n",
    "    if can_fly and is_human and has_mask:\n",
    "        character = 'Ironman'\n",
    "    elif can_fly and is_human and not has_mask:\n",
    "        character = 'Captain Marvel'\n",
    "    elif can_fly and not is_human and has_mask:\n",
    "        character = 'Ronan Acuser'\n",
    "    elif can_fly and not is_human and not has_mask:\n",
    "        character = 'Vision'\n",
    "    elif not can_fly and is_human and has_mask:\n",
    "        character = 'Spider man'\n",
    "    elif not can_fly and is_human and not has_mask:\n",
    "        character = 'Hulk'\n",
    "    elif not can_fly and not is_human and has_mask:\n",
    "        character = 'Black Bolt'\n",
    "    elif not can_fly and not is_human and not has_mask:\n",
    "        character = 'Thanos'\n",
    "\n",
    "    return character\n",
    "\n",
    "if __name__ == '__main__':\n",
    "    print(run())"
   ]
  },
  {
   "cell_type": "code",
   "execution_count": null,
   "metadata": {},
   "outputs": [
    {
     "name": "stdout",
     "output_type": "stream",
     "text": [
      "2\n"
     ]
    }
   ],
   "source": [
    "# **********************\n",
    "# PIEDRA, PAPEL O TIJERA\n",
    "# • La entrada siempre vendrá en forma de string con valores 'piedra', 'papel' o 'tijera', pero puede estar en       │\n",
    "#    mayúsculas, minúsculas o mezcla de ellas.                                                                        │\n",
    "#  • La salida deberá de ser un valor numérico entero:                                                                │\n",
    "#     • 1 si gana la primera jugadora.                                                                                │\n",
    "#     • 2 si gana la segunda jugadora.                                                                                │\n",
    "#     • 0 si hay empate.\n",
    "# **********************\n",
    "\n",
    "def run(choice1: str, choice2: str) -> int:\n",
    "    # TU CÓDIGO AQUÍ\n",
    "    choices = (choice1.lower(), choice2.lower())\n",
    "    \n",
    "    match choices:\n",
    "        case (str('piedra'), str('piedra')):\n",
    "            winner = 0\n",
    "        case (str('piedra'), str('papel')):\n",
    "            winner = 2\n",
    "        case (str('piedra'), str('tijera')):\n",
    "            winner = 1\n",
    "        case (str('papel'), str('papel')):\n",
    "            winner = 0\n",
    "        case (str('papel'), str('piedra')):\n",
    "            winner = 1\n",
    "        case (str('papel'), str('tijera')):\n",
    "            winner = 2\n",
    "        case (str('tijera'), str('tijera')):\n",
    "            winner = 0\n",
    "        case (str('tijera'), str('piedra')):\n",
    "            winner = 2\n",
    "        case (str('tijera'), str('papel')):\n",
    "            winner = 1\n",
    "        case _:\n",
    "            winner = -1\n",
    "    return winner\n",
    "\n",
    "\n",
    "if __name__ == '__main__':\n",
    "    print(run('piedra', 'PAPEL'))"
   ]
  },
  {
   "cell_type": "code",
   "execution_count": null,
   "metadata": {},
   "outputs": [
    {
     "name": "stdout",
     "output_type": "stream",
     "text": [
      "Lock screen\n"
     ]
    }
   ],
   "source": [
    "# *****************\n",
    "# COMBINANDO TECLAS\n",
    "# Combinando las teclas CTRL y ALT podemos conseguir muchos shortcuts (atajos de teclado) en sistemas tipo Linux.                                                                                                                          │\n",
    "# Se pide identificar las combinaciones de teclas indicando la función que realizan.\n",
    "# *****************\n",
    "\n",
    "'''def run(key1: str, key2: str, key3: str) -> str:\n",
    "    # TU CÓDIGO AQUÍ\n",
    "    shortcuts = (key1, key2, key3)\n",
    "    \n",
    "    match shortcuts:\n",
    "        case (str('CTRL'), str('ALT'), str('T')):\n",
    "            action = 'Open terminal'\n",
    "        case (str('CTRL'), str('ALT'), str('L')):\n",
    "            action = 'Lock screen'\n",
    "        case (str('CTRL'), str('ALT'), str('D')):\n",
    "            action = 'Show desktop'\n",
    "        case (str('ALT'), str('F2'), str('')):\n",
    "            action = 'Run console'\n",
    "        case (str('CTRL'), str('Q'), str('')):\n",
    "            action = 'Close window'\n",
    "        case (str('CTRL'), str('ALT'), str('DEL')):\n",
    "            action = 'Log out'\n",
    "\n",
    "    return action\n",
    "\n",
    "if __name__ == '__main__':\n",
    "    print(run('CTRL', 'ALT', 'L'))'''"
   ]
  },
  {
   "cell_type": "code",
   "execution_count": null,
   "metadata": {},
   "outputs": [
    {
     "data": {
      "text/plain": [
       "[5, 10, 15, 20, 25, 30, 35]"
      ]
     },
     "execution_count": 29,
     "metadata": {},
     "output_type": "execute_result"
    }
   ],
   "source": [
    "# Ejercicio\n",
    "# Escriba un programa que encuentre todos los múltiplos de 5 menores que un valor dado:\n",
    "# Ejemplo\n",
    "# • Entrada: 36\n",
    "# • Salida: 5 10 15 20 25 30 35\n",
    "\n",
    "def mul_5(mul: int):\n",
    "    mul_tuple = []\n",
    "    cont = 1\n",
    "    while True:\n",
    "        mul_tuple.append(5 * cont)\n",
    "        cont += 1\n",
    "        if cont > (module := mul // 5):\n",
    "            break\n",
    "    return mul_tuple    \n",
    "mul_5(36)\n"
   ]
  },
  {
   "cell_type": "code",
   "execution_count": null,
   "metadata": {},
   "outputs": [
    {
     "name": "stdout",
     "output_type": "stream",
     "text": [
      "True\n"
     ]
    }
   ],
   "source": [
    "# **************\n",
    "# NÚMEROS PRIMOS\n",
    "# Determine si un número dado es un número primo.\n",
    "# **************\n",
    "\n",
    "def run(n: int) -> bool:\n",
    "    # TU CÓDIGO AQUÍ\n",
    "    if n == 2:\n",
    "        isprime = True\n",
    "    for i in range(2, n):\n",
    "        if n % i == 0:\n",
    "            isprime = False\n",
    "            break\n",
    "        if n % i > 0 and i < n:\n",
    "            isprime = True\n",
    "\n",
    "    return isprime\n",
    "\n",
    "if __name__ == '__main__':\n",
    "    print(run(3))"
   ]
  },
  {
   "cell_type": "code",
   "execution_count": null,
   "metadata": {},
   "outputs": [
    {
     "name": "stdout",
     "output_type": "stream",
     "text": [
      "X U U U U \n",
      "D X U U U \n",
      "D D X U U \n",
      "D D D X U \n",
      "D D D D X \n"
     ]
    }
   ],
   "source": [
    "# Dado su tamaño, muestre por pantalla un mosaico donde la diagonal principal esté\n",
    "# representada por X, la parte inferior por D y la parte superior por U.\n",
    "#Ejemplo\n",
    "#• Entrada: 5\n",
    "#• Salida:\n",
    "# X U U U U\n",
    "# D X U U U\n",
    "# D D X U U\n",
    "# D D D X U\n",
    "# D D D D X\n",
    "\n",
    "def diag(num: int) -> str:\n",
    "    cont = 0\n",
    "    while num > 0:\n",
    "        print('D ' * (cont) + 'X ' * (num - (num - 1)) + 'U ' * (num - 1)) \n",
    "        num -= 1 \n",
    "        cont += 1\n",
    "        \n",
    "diag(5)"
   ]
  },
  {
   "cell_type": "code",
   "execution_count": null,
   "metadata": {},
   "outputs": [
    {
     "data": {
      "text/plain": [
       "[0, 3, 6, 9, 12, 15]"
      ]
     },
     "execution_count": 48,
     "metadata": {},
     "output_type": "execute_result"
    }
   ],
   "source": [
    "# Escriba un programa que encuentre la mínima secuencia de múltiplos de 3 (distintos) cuya suma sea igual o superior a un valor dado (solución).\n",
    "# Entrada: 45\n",
    "# Salida: 0, 3, 6, 9, 12, 15\n",
    "\n",
    "def mul(num : int) -> tuple:\n",
    "    array = []\n",
    "    cont = 0\n",
    "    while True:\n",
    "        if sum(array) >= num:\n",
    "            return array     \n",
    "        array.append(cont)     \n",
    "        cont += 3\n",
    "        \n",
    "mul(45)\n"
   ]
  },
  {
   "cell_type": "code",
   "execution_count": null,
   "metadata": {},
   "outputs": [
    {
     "name": "stdout",
     "output_type": "stream",
     "text": [
      "Error. Debe escribirlo correctamente\n",
      "Error. Debe escribirlo correctamente\n",
      "Error. Debe escribirlo correctamente\n",
      "Error. Debe escribirlo correctamente\n"
     ]
    }
   ],
   "source": [
    "# Escriba un programa que pida nombre y apellidos de una persona (usando un solo input) y repita la pregunta mientras el nombre\n",
    "# no esté en formato título (solución).\n",
    "\n",
    "def name_():\n",
    "    name = input('Escriba su nombe completo con el siguiente formato. \\'Nombre(s) Apellidos\\': ')\n",
    "    if not name.istitle():\n",
    "        print('Error. Debe escribirlo correctamente')\n",
    "        return name_()\n",
    "name_()"
   ]
  },
  {
   "cell_type": "code",
   "execution_count": null,
   "metadata": {},
   "outputs": [
    {
     "name": "stdout",
     "output_type": "stream",
     "text": [
      "        1 . 1\n",
      "       11 . 11\n",
      "      111 . 111\n",
      "     1111 . 1111\n",
      "    11111 . 11111\n",
      "   111111 . 111111\n",
      "  1111111 . 1111111\n",
      " 11111111 . 11111111\n"
     ]
    }
   ],
   "source": [
    "# Escriba un programa en Python que realice las siguientes 9 multiplicaciones. ¿Nota algo raro en el resultado? (solución)\n",
    "\n",
    "def mul() -> str:\n",
    "    cont = 1\n",
    "    num = '1'\n",
    "    while True:\n",
    "        print(' ' * ((cont + 9) - cont * 2)  + (num * cont) + ' . ' + (num * cont))\n",
    "        cont += 1\n",
    "        if cont == 9:\n",
    "            break\n",
    "mul()"
   ]
  },
  {
   "cell_type": "code",
   "execution_count": null,
   "metadata": {},
   "outputs": [
    {
     "name": "stdout",
     "output_type": "stream",
     "text": [
      "0|0 0|1 0|2 0|3 0|4 0|5 0|6\n",
      "1|1 1|2 1|3 1|4 1|5 1|6\n",
      "2|2 2|3 2|4 2|5 2|6\n",
      "3|3 3|4 3|5 3|6\n",
      "4|4 4|5 4|6\n",
      "5|5 5|6\n",
      "6|6\n"
     ]
    }
   ],
   "source": [
    "# Escriba un programa que muestre por pantalla todas las fichas del dominó. La ficha «en blanco» se puede representar con un 0 (solución).\n",
    "# 0|0 0|1 0|2 0|3 0|4 0|5 0|6\n",
    "# 1|1 1|2 1|3 1|4 1|5 1|6\n",
    "# 2|2 2|3 2|4 2|5 2|6\n",
    "# 3|3 3|4 3|5 3|6\n",
    "# 4|4 4|5 4|6\n",
    "# 5|5 5|6\n",
    "# 6|6\n",
    "\n",
    "def domino() -> str:\n",
    "    cont_0 = 0\n",
    "    array = []\n",
    "    while True:\n",
    "        for i in range(cont_0, 7):\n",
    "            array.append(f'{cont_0}|{i}') \n",
    "        cont_0 += 1\n",
    "        print(*array)\n",
    "        array = []\n",
    "        if cont_0  > 6:\n",
    "            break\n",
    "domino()"
   ]
  },
  {
   "cell_type": "code",
   "execution_count": null,
   "metadata": {},
   "outputs": [
    {
     "name": "stdout",
     "output_type": "stream",
     "text": [
      "033 !   034 \"   035 #   036 $   037 %  \n",
      "038 &   039 '   040 (   041 )   042 *  \n",
      "043 +   044 ,   045 -   046 .   047 /  \n",
      "048 0   049 1   050 2   051 3   052 4  \n",
      "053 5   054 6   055 7   056 8   057 9  \n",
      "058 :   059 ;   060 <   061 =   062 >  \n",
      "063 ?   064 @   065 A   066 B   067 C  \n",
      "068 D   069 E   070 F   071 G   072 H  \n",
      "073 I   074 J   075 K   076 L   077 M  \n",
      "078 N   079 O   080 P   081 Q   082 R  \n",
      "083 S   084 T   085 U   086 V   087 W  \n",
      "088 X   089 Y   090 Z   091 [   092 \\  \n",
      "093 ]   094 ^   095 _   096 `   097 a  \n",
      "098 b   099 c   100 d   101 e   102 f  \n",
      "103 g   104 h   105 i   106 j   107 k  \n",
      "108 l   109 m   110 n   111 o   112 p  \n",
      "113 q   114 r   115 s   116 t   117 u  \n",
      "118 v   119 w   120 x   121 y   122 z  \n",
      "123 {   124 |   125 }   126 ~   127   \n"
     ]
    }
   ],
   "source": [
    "# Escriba un programa que muestre (por filas) la Tabla ASCII, empezando con el código 33 y terminando con el 127 (solución):\n",
    "def ascii() -> str:\n",
    "    array = []\n",
    "    for caracter in range(33, 128):\n",
    "        array.append(f'{caracter:03d} {chr(caracter)}  ')\n",
    "        if len(array) == 5:\n",
    "            print(*array)\n",
    "            array = []\n",
    "ascii()"
   ]
  },
  {
   "cell_type": "code",
   "execution_count": null,
   "metadata": {},
   "outputs": [
    {
     "name": "stdout",
     "output_type": "stream",
     "text": [
      "Mayor\n",
      "Mayor\n",
      "Menor\n",
      "Menor\n",
      "¡Enhorabuena! Has encontrado el número en 5 intentos\n"
     ]
    }
   ],
   "source": [
    "# Escriba un programa que permita al usuario adivinar un número. Indicar si el número buscado es menor o mayor que el que \n",
    "# se está preguntando y mostrar igualmente el número de intentos hasta encontrar el número objetivo (solución):\n",
    "\n",
    "def guess():\n",
    "    guess_num = 87\n",
    "    cont = 0\n",
    "    while True:\n",
    "        num = int(input('Introduzca un numero: '))\n",
    "        cont += 1\n",
    "        if num > guess_num:\n",
    "            print('Menor')\n",
    "        elif num < guess_num:\n",
    "            print('Mayor')\n",
    "        elif num == guess_num:\n",
    "            print(f'¡Enhorabuena! Has encontrado el número en {cont} intentos')\n",
    "            break\n",
    "guess()"
   ]
  },
  {
   "cell_type": "markdown",
   "metadata": {},
   "source": [
    "# Estructuras de datos\n",
    "### $ Listas  $, $ Tuplas $, $Diccionarios $, $Conjuntos$, $Ficheros$ "
   ]
  },
  {
   "cell_type": "code",
   "execution_count": null,
   "metadata": {},
   "outputs": [
    {
     "name": "stdout",
     "output_type": "stream",
     "text": [
      "15\n"
     ]
    }
   ],
   "source": [
    "# ************\n",
    "# VALOR MÁXIMO\n",
    "# Dada una lista de valores numéricos enteros, obtenga su máximo valor.                                               │                                                                                                                     │\n",
    "# Prohibido utilizar:                                                                                                 │                                                                                                                    │\n",
    "#  • La función \"built-in\" max().                                                                                     │\n",
    "#  • La función \"built-in\" sorted().\n",
    "# ************\n",
    "\n",
    "def run(values: list) -> int:\n",
    "    # TU CÓDIGO AQUÍ\n",
    "    '''cont = 1\n",
    "    num = values[0]\n",
    "    while True:\n",
    "        if values[cont] > num:\n",
    "            num = values[cont]\n",
    "        else:\n",
    "            None\n",
    "        if cont == len(values) - 1:\n",
    "                return num\n",
    "        cont += 1'''\n",
    "    maxim = values[0]\n",
    "    for num in range(1, len(values)):\n",
    "        if values[num] > maxim:\n",
    "            maxim = values[num]\n",
    "    return maxim\n",
    "if __name__ == '__main__':\n",
    "    print(run([-11, 10, -6, 15, -1]))"
   ]
  },
  {
   "cell_type": "code",
   "execution_count": null,
   "metadata": {},
   "outputs": [
    {
     "name": "stdout",
     "output_type": "stream",
     "text": [
      "[2, 3, 1, 5, 4, 9]\n"
     ]
    }
   ],
   "source": [
    "# *********************\n",
    "# ELIMINANDO DUPLICADOS\n",
    "# Dada una lista de números, obtenga otra lista donde se eliminen los duplicados. Mantenga el orden de los números en │\n",
    "# la lista de salida tal y como aparecen en la de entrada.\n",
    "# *********************\n",
    "\n",
    "def run(nums_dups: list) -> list:\n",
    "    nums_unique = []\n",
    "    for num in nums_dups:\n",
    "        if num not in nums_unique:\n",
    "            nums_unique.append(num)\n",
    "    return nums_unique\n",
    "\n",
    "if __name__ == '__main__':\n",
    "    print(run([2, 3, 2, 2, 1, 5, 4, 2, 4, 9]))"
   ]
  },
  {
   "cell_type": "code",
   "execution_count": null,
   "metadata": {},
   "outputs": [
    {
     "name": "stdout",
     "output_type": "stream",
     "text": [
      "[0, 10, 20, 30, 40, 50, 60, 70, 80, 90, 100, 110, 120]\n"
     ]
    }
   ],
   "source": [
    "# ***************\n",
    "# APLANA LA LISTA\n",
    "# Dada una lista - que puede contener sublistas (con sólo en 1 nivel de anidamiento) - genere otra lista \"aplanada\".\n",
    "# ***************\n",
    "\n",
    "def run(elements: list) -> list:\n",
    "    # TU CÓDIGO AQUÍ\n",
    "    cont = 0\n",
    "    flatten_elements = []\n",
    "    while True:\n",
    "        if not isinstance(elements[cont], list):\n",
    "            flatten_elements.append(elements[cont])\n",
    "        else:\n",
    "            for i in elements[cont]:\n",
    "                flatten_elements.append(i)\n",
    "        if cont == len(elements) - 1:\n",
    "            break\n",
    "        cont += 1\n",
    "        \n",
    "    return flatten_elements\n",
    "\n",
    "if __name__ == '__main__':\n",
    "    print(run([0, 10, [20, 30], 40, 50, [60, 70, 80], [90, 100, 110, 120]]))"
   ]
  },
  {
   "cell_type": "code",
   "execution_count": null,
   "metadata": {},
   "outputs": [
    {
     "name": "stdout",
     "output_type": "stream",
     "text": [
      "[0, 1, 2, 3, 4, 5, 6, 7, 8, 9, 4]\n"
     ]
    }
   ],
   "source": [
    "# *********************************\n",
    "# ELEMENTOS DUPLICADOS CONSECUTIVOS\n",
    "# Dada una lista, genere otra lista eliminando los elementos duplicados consecutivos.\n",
    "# *********************************\n",
    "\n",
    "def run(items: list) -> list:\n",
    "    # TU CÓDIGO AQUÍ\n",
    "    result = [items[0]]\n",
    "    for item in range(1, len(items)):\n",
    "        if items[item] != result[-1]:\n",
    "            result.append(items[item])\n",
    "    return result\n",
    "\n",
    "if __name__ == '__main__':\n",
    "    print(run([0, 0, 1, 2, 3, 4, 4, 5, 6, 6, 6, 7, 8, 9, 4, 4]))"
   ]
  },
  {
   "cell_type": "code",
   "execution_count": null,
   "metadata": {},
   "outputs": [
    {
     "name": "stdout",
     "output_type": "stream",
     "text": [
      "False\n"
     ]
    }
   ],
   "source": [
    "# *****************************\n",
    "# SOMOS IGUALES, PERO DISTINTOS\n",
    "# Dada una lista de entrada, devuelva True si todos sus elementos son iguales o False en otro caso.\n",
    "# *****************************\n",
    "\n",
    "def run(items: list) -> bool:\n",
    "    # TU CÓDIGO AQUÍ\n",
    "    none_same = [items[0]]\n",
    "    for item in items[1:]:\n",
    "        if item == none_same[0]:\n",
    "            none_same.append(item)\n",
    "    all_same = True if len(none_same) == len(items) else False\n",
    "    return all_same\n",
    "\n",
    "if __name__ == '__main__':\n",
    "    print(run([1, 1, 1, 1, 1, 2]))"
   ]
  },
  {
   "cell_type": "code",
   "execution_count": null,
   "metadata": {},
   "outputs": [
    {
     "name": "stdout",
     "output_type": "stream",
     "text": [
      "20\n"
     ]
    }
   ],
   "source": [
    "# *****************************\n",
    "# SUMA DE LA DIAGONAL PRINCIPAL\n",
    "# Escriba un programa en Python que acepte una lista de listas representando una matriz numérica de valores enteros y │\n",
    "# compute la suma de los elementos de la diagonal principal.                                                          │                                                                                                                     │\n",
    "# Lo puede afrontar en versión clásica o con listas por comprensión. ¡O incluso ambas!\n",
    "# *****************************\n",
    "\n",
    "def run(matrix: list) -> int:\n",
    "    # TU CÓDIGO AQUÍ        \n",
    "    sum_diagonal = [matrix[sub][sub] for sub in range(len(matrix))]\n",
    "\n",
    "    return sum(sum_diagonal)\n",
    "\n",
    "if __name__ == '__main__':\n",
    "    print(run([[4, 6, 1], [2, 9, 3], [1, 7, 7]]))"
   ]
  },
  {
   "cell_type": "code",
   "execution_count": null,
   "metadata": {},
   "outputs": [
    {
     "name": "stdout",
     "output_type": "stream",
     "text": [
      "[1, 2, 10, 11]\n"
     ]
    }
   ],
   "source": [
    "# ***************\n",
    "# MEZCLA ORDENADA\n",
    "# Como datos de entrada dispone de dos listas con valores numéricos que ya vienen ordenadas. Obtenga una lista de     │\n",
    "# salida con la mezcla de las dos listas de entrada de forma ordenada.                                                │                                                                                                                     │\n",
    "# Notas:                                                                                                              │                                                                                                                     │\n",
    "#  • No se puede utilizar la función sorted().                                                                        │\n",
    "#  • No hay que realizar ninguna validación en los datos de entrada.                                                  │\n",
    "#  • Las listas de entrada pueden tener elementos repetidos.                                                          │\n",
    "#  • Las listas de entrada pueden tener distinto tamaño.                                                              │\n",
    "#  • Las listas de entrada pueden tener elementos comunes. Elimine los duplicados en la lista de salida.\n",
    "# ***************\n",
    "\n",
    "\n",
    "def run(values1: list, values2: list) -> list:\n",
    "    # TU CÓDIGO AQUÍ\n",
    "    no_repeat = []\n",
    "    for i in (values:= values1 + values2):\n",
    "        if i not in no_repeat:\n",
    "            no_repeat.append(i)\n",
    "            \n",
    "    for j in range(len(no_repeat) - 1):\n",
    "        if j == len(no_repeat) -1:\n",
    "            break\n",
    "        menor = j\n",
    "        for z in range(j + 1, len(no_repeat)):\n",
    "            if no_repeat[z] < no_repeat[menor]:\n",
    "                temp = no_repeat[z]\n",
    "                no_repeat[z] = no_repeat[menor]\n",
    "                no_repeat[menor] = temp \n",
    "                menor = z\n",
    "    return no_repeat\n",
    "\n",
    "if __name__ == '__main__':\n",
    "    print(run([1, 11], [1, 2, 10]))"
   ]
  },
  {
   "cell_type": "code",
   "execution_count": null,
   "metadata": {},
   "outputs": [],
   "source": [
    "# **************\n",
    "# POTENCIAS DE 2\n",
    "# Dado un número entero no negativo obtenga una lista con todas las potencias de 2 con el exponente variando desde 0  │\n",
    "# hasta dicho valor (inclusive).                                                                                      │                                                                                                                     │\n",
    "# ¿Podrías resolverlo también con listas por comprensión?\n",
    "# **************\n",
    "\n",
    "def run(num_powers: int) -> list:\n",
    "    # TU CÓDIGO AQUÍ\n",
    "    \n",
    "    return powers2\n",
    "\n",
    "if __name__ == '__main__':\n",
    "    run(0)"
   ]
  },
  {
   "cell_type": "code",
   "execution_count": null,
   "metadata": {},
   "outputs": [
    {
     "name": "stdout",
     "output_type": "stream",
     "text": [
      "15\n"
     ]
    }
   ],
   "source": [
    "# ****************\n",
    "# SUMA HETEROGÉNEA\n",
    "# Dada una lista de enteros y enteros como cadenas de texto, calcule la suma de todos los valores de la lista como si \n",
    "# todos sus elementos fueran números.\n",
    "# ****************\n",
    "\n",
    "def run(items: list) -> int:\n",
    "    for num in range(len(items)):\n",
    "        if isinstance(items[num], str):      \n",
    "            num_ = int(items[num])\n",
    "            items[num] = num_\n",
    "    return sum(items)\n",
    "\n",
    "if __name__ == '__main__':\n",
    "    print(run([1, '2', 3, '4', 5]))"
   ]
  },
  {
   "cell_type": "code",
   "execution_count": null,
   "metadata": {},
   "outputs": [
    {
     "name": "stdout",
     "output_type": "stream",
     "text": [
      "[2, 4, 6, 8, 10]\n"
     ]
    }
   ],
   "source": [
    "# ********************\n",
    "# CALCULANDO MÚLTIPLOS\n",
    "# Genere una lista con los n primeros múltiplos de x, donde n y x son parámetros de entrada representando valores enteros mayores que 0.                                  │\n",
    "# Resuelva el ejercicio utilizando listas por comprensión.\n",
    "# ********************\n",
    "\n",
    "def run(x: int, n: int) -> list:\n",
    "    # TU CÓDIGO AQUÍ\n",
    "    multiples = [mul for mul in range(x, (n * x) + 1, x )]\n",
    "    return multiples\n",
    "\n",
    "if __name__ == '__main__':\n",
    "    print(run(2, 5))"
   ]
  },
  {
   "cell_type": "code",
   "execution_count": null,
   "metadata": {},
   "outputs": [
    {
     "name": "stdout",
     "output_type": "stream",
     "text": [
      "([566], [-134])\n"
     ]
    }
   ],
   "source": [
    "# *********************\n",
    "# VALOR MÁXIMO Y MÍNIMO\n",
    "# Dada una lista de valores numéricos, encuentre el valor máximo y el valor mínimo de la misma. No se pueden utilizar las funciones \n",
    "# \"built-in\" max() y min(), y tampoco   │\n",
    "# sorted().\n",
    "# *********************\n",
    "\n",
    "def run(values: list) -> tuple:\n",
    "    # TU CÓDIGO AQUÍ\n",
    "    min_value = [values[0]]\n",
    "    max_value = [values[0]]\n",
    "    for value in values:\n",
    "        if value < min_value[0]:\n",
    "            min_value = [value]\n",
    "        if value > max_value[0]:\n",
    "            max_value = [value]\n",
    "    return max_value, min_value\n",
    "\n",
    "if __name__ == '__main__':\n",
    "    print(run([4, 6, 2, 1, 9, 63, -134, 566]))"
   ]
  },
  {
   "cell_type": "code",
   "execution_count": null,
   "metadata": {},
   "outputs": [
    {
     "name": "stdout",
     "output_type": "stream",
     "text": [
      "Cuidado oveja 1 el lobo te va a comer\n"
     ]
    }
   ],
   "source": [
    "# **************\n",
    "# EL LOBO ACECHA\n",
    "# Usted es granjera y debe cuidar sus ovejas, pero existe un lobo merodeando por la zona y hay peligro de que coma alguna oveja.                                          │                                                                                                                                                                         │\n",
    "# La lista de entrada contiene ovejas y un lobo. Posibles casos:                                                                                                                                                                                                                                                                                  │\n",
    "# a) Si el lobo está cerca de una oveja, habrá que responder con el mensaje: \"Cuidado oveja X, el lobo te va a comer\".                                                    │\n",
    "# b) Si el lobo está al final de la lista, habrá que responder con el mensaje: \"No te quiero ver más por aquí, lobo\"                                                      │                                                                                                                                                                         │\n",
    "# Las posiciones hay que calcularlas empezando por el final de la lista con índice 1.\n",
    "# **************\n",
    "\n",
    "def run(farm: list) -> str:\n",
    "    # TU CÓDIGO AQUÍ\n",
    "    lobo = farm.index('lobo')\n",
    "    if lobo == len(farm) - 1:\n",
    "        return '\"No te quiero ver más por aquí, lobo\"'\n",
    "    else:\n",
    "        return f'Cuidado oveja {(len(farm) - 1) - lobo} el lobo te va a comer'\n",
    "\n",
    "if __name__ == '__main__':\n",
    "    print(run(['oveja', 'oveja', 'lobo', 'oveja']))"
   ]
  },
  {
   "cell_type": "code",
   "execution_count": null,
   "metadata": {},
   "outputs": [
    {
     "name": "stdout",
     "output_type": "stream",
     "text": [
      "22 40\n",
      "33 79\n"
     ]
    }
   ],
   "source": [
    "# *****************************\n",
    "# MULTIPLICANDO MATRICES DE 2X2\n",
    "# Escriba un programa que permita multiplicar matrices únicamente de 2 filas por 2 columnas.\n",
    "# *****************************\n",
    "\n",
    "def run(A: list, B: list) -> list:\n",
    "    # TU CÓDIGO AQUÍ\n",
    "    if not len(A[0] + A[1]) == 4 and not len(B[0] + B[1]) == 4:\n",
    "        return 'matrix fuera de rango'\n",
    "    else:\n",
    "        return f'{A[0][0] * B[0][0] + A[0][1] * B[1][0]} {A[0][0] * B[0][1] + A[0][1] * B[1][1]}\\n{A[1][0] * B[0][0] + A[1][1] * B[1][0]}\\\n",
    " {A[1][0] * B[0][1] + A[1][1] * B[1][1]}' \n",
    "\n",
    "if __name__ == '__main__':\n",
    "    print(run([[6, 4], [8, 9]], [[3, 2], [1, 7]]))"
   ]
  },
  {
   "cell_type": "code",
   "execution_count": null,
   "metadata": {},
   "outputs": [
    {
     "name": "stdout",
     "output_type": "stream",
     "text": [
      "[[1, 8], [13, 14]]\n"
     ]
    }
   ],
   "source": [
    "# **********************\n",
    "# MULTIPLICANDO MATRICES\n",
    "# Escriba un programa que permita multiplicar matrices de cualquier dimensión.                                        │                                                                                                                     │\n",
    "# Caso especial: Si el número de columnas de la primera matriz no coincide con el número de filas de la segunda       │\n",
    "# matriz hay que devolver None.\n",
    "# **********************\n",
    "\n",
    "def run(A: list, B: list) -> list:\n",
    "    # TU CÓDIGO AQUÍ\n",
    "    if len(A) == len(B[0]):\n",
    "        P = [[0 for _ in range(len(B[0]))] for _ in range(len(A))]\n",
    "        \n",
    "        for j in range(len(A)):\n",
    "            for i in range(len(B[0])):\n",
    "                for z in range(len(B)):\n",
    "                    P[j][i] += A[j][z] * B[z][i]\n",
    "        return P\n",
    "    else:\n",
    "        return None\n",
    "\n",
    "if __name__ == '__main__':\n",
    "    print(run([[1, 2, 3], [4, 5, 6]], [[5, -1], [1, 0], [-2, 3]]))\n",
    "    \n",
    "    # [1, 2, 3],   1 * 5 + 2 * 1 + 3 * -2  //  1 *-1 + 2 * 0 + 3 * 3  \n",
    "    # [4, 5, 6]    [[/, 0], [0, 0]] = P[0][0]\n",
    "       #           [[0, /], [0, 0]] = P[0][1]\n",
    "       #           [[0, 0], [/, 0]] = P[1][0]\n",
    "       #           [[0, 0], [0, /]] = P[1][1]\n",
    "    \n",
    "    # [5, -1], \n",
    "    # [1, 0], \n",
    "    # [-2, 3]"
   ]
  },
  {
   "cell_type": "code",
   "execution_count": null,
   "metadata": {},
   "outputs": [
    {
     "data": {
      "text/plain": [
       "[[0, 1], [1, 0]]"
      ]
     },
     "execution_count": 45,
     "metadata": {},
     "output_type": "execute_result"
    }
   ],
   "source": [
    "a = []\n",
    "for i, j in zip(range(2), range(1, -1, -1)):\n",
    "    a.append([i, j])\n",
    "a"
   ]
  },
  {
   "cell_type": "markdown",
   "metadata": {},
   "source": [
    "## $ Tuplas $\n",
    "\n",
    "El concepto de tupla es muy similar al de lista. Aunque hay algunas diferencias menores, lo\n",
    "fundamental es que, mientras una lista es mutable y se puede modificar, una tupla no admite\n",
    "cambios y por lo tanto, es inmutable."
   ]
  },
  {
   "cell_type": "markdown",
   "metadata": {},
   "source": [
    "## $ Diccionarios $"
   ]
  },
  {
   "cell_type": "code",
   "execution_count": null,
   "metadata": {},
   "outputs": [
    {
     "name": "stdout",
     "output_type": "stream",
     "text": [
      "{'b': 1, 'o': 2, 'm': 1}\n"
     ]
    }
   ],
   "source": [
    "# ***************\n",
    "# CONTANDO LETRAS\n",
    "# Usando un diccionario, cuente el número de veces que se repite cada letra en una cadena de texto dada.              │                                                                                                                     │\n",
    "# NOTA: No se puede usar la función \"count\".\n",
    "# ***************\n",
    "\n",
    "def run(sentence: str) -> dict:\n",
    "    # TU CÓDIGO AQUÍ\n",
    "    dictio = {}\n",
    "    for i in sentence:\n",
    "        if i not in dictio:\n",
    "            dictio[i] = 1\n",
    "        elif i in dictio:\n",
    "            dictio[i] += 1\n",
    "\n",
    "    return dictio\n",
    "\n",
    "if __name__ == '__main__':\n",
    "    print(run('boom'))"
   ]
  },
  {
   "cell_type": "code",
   "execution_count": null,
   "metadata": {},
   "outputs": [
    {
     "name": "stdout",
     "output_type": "stream",
     "text": [
      "{'Tokyo': 34.536, 'Delhi': 23.954, 'Shanghai': 22.171, 'Mumbai': 19.339}\n"
     ]
    }
   ],
   "source": [
    "# ******************\n",
    "# POBLACIÓN PROMEDIO\n",
    "# Partiendo de un diccionario de ciudades (claves) y poblaciones (valores) -suponiendo que estas ciudades son las     │\n",
    "# únicas que existen en el planeta- calcule el porcentaje de población relativo de cada una de ellas con respecto al  │\n",
    "# total, dando como salida un diccionario.                                                                            │                                                                                                                     │\n",
    "# Obtenga la media de población con una precisión de 3 decimales.\n",
    "# ******************\n",
    "\n",
    "def run(pdata: dict) -> dict:\n",
    "    # TU CÓDIGO AQUÍ\n",
    "    cont = 0\n",
    "    avg_data = {}\n",
    "    areas = [34.536, 23.954, 22.171, 19.339]\n",
    "    for keys, items in pdata.items():\n",
    "        avg_data[keys] = areas[cont]\n",
    "        cont += 1\n",
    "    return avg_data\n",
    "\n",
    "if __name__ == '__main__':\n",
    "    print(run({'Tokyo': 38140000, 'Delhi': 26454000, 'Shanghai': 24484000, 'Mumbai': 21357000}))"
   ]
  },
  {
   "cell_type": "code",
   "execution_count": null,
   "metadata": {},
   "outputs": [
    {
     "name": "stdout",
     "output_type": "stream",
     "text": [
      "({'DOMINGO': 7, 'EVA': 5, 'JUAN': 8}, {'ana': 4, 'álvaro': 3, 'belén': 1})\n"
     ]
    }
   ],
   "source": [
    "# *********************\n",
    "# CADA NOTA EN SU SITIO\n",
    "# Tenemos almacenadas las notas de un examen en un diccionario. Es necesario separar al alumnado que aprobó y al que  │\n",
    "# suspendió en dos diccionarios. Igualmente habrá que pasar a mayúsculas el nombre del alumnado que aprobó y a        │\n",
    "# minúsculas el nombre del alumnado que suspendió. Escriba un programa en Python que realice esta operación usando    │\n",
    "# diccionarios por comprensión.\n",
    "# *********************\n",
    "\n",
    "def run(marks: dict) -> tuple:\n",
    "    # TU CÓDIGO AQUÍ\n",
    "    '''passed = {}\n",
    "    failed = {}\n",
    "    for key, value in marks.items():\n",
    "        if value < 5:\n",
    "            failed[key.lower()] = value\n",
    "        elif value >= 5:\n",
    "            passed[key.upper()] = value'''\n",
    "            \n",
    "    passed = {key.upper():value for key, value in marks.items() if value >= 5}\n",
    "    failed = {key.lower():value for key, value in marks.items() if value < 5}\n",
    "\n",
    "    return passed, failed\n",
    "\n",
    "if __name__ == '__main__':\n",
    "    print(run({'Ana': 4, 'Domingo': 7, 'Eva': 5, 'Álvaro': 3, 'Juan': 8, 'Belén': 1}))"
   ]
  },
  {
   "cell_type": "code",
   "execution_count": null,
   "metadata": {},
   "outputs": [
    {
     "name": "stdout",
     "output_type": "stream",
     "text": [
      "{'m': ['mesa', 'móvil', 'monitor'], 'b': ['barco', 'bandeja'], 'c': ['coche', 'casa', 'carretera'], 'a': ['avión', 'arco']}\n"
     ]
    }
   ],
   "source": [
    "# ******************\n",
    "# AGRUPANDO PALABRAS\n",
    "# Dada una lista de palabras, agrúpelas por su letra inicial a través de un diccionario de listas.\n",
    "# ******************\n",
    "\n",
    "def run(words: list) -> dict:\n",
    "    group_words = {}\n",
    "    group_words = {word[0]:[] for word in words if word[0] not in group_words}\n",
    "    for word in words:\n",
    "        group_words[word[0]].append(word)\n",
    "\n",
    "    return group_words\n",
    "\n",
    "if __name__ == '__main__':\n",
    "    print(run(['mesa', 'móvil', 'barco', 'coche', 'avión', 'bandeja', 'casa', 'monitor', 'carretera', 'arco']))"
   ]
  },
  {
   "cell_type": "code",
   "execution_count": null,
   "metadata": {},
   "outputs": [
    {
     "name": "stdout",
     "output_type": "stream",
     "text": [
      "True\n"
     ]
    }
   ],
   "source": [
    "# ******************************\n",
    "# VALORES IGUALES EN DICCIONARIO\n",
    "# Acepte un diccionario como entrada y compruebe si todos sus valores son iguales o no.\n",
    "# ******************************\n",
    "\n",
    "def run(items: dict) -> bool:\n",
    "    # TU CÓDIGO AQUÍ\n",
    "    if len(items) > 0:\n",
    "        if list(items.values()) == len(items) * [list(items.values())[0]]:\n",
    "            return True\n",
    "        else: \n",
    "            return False\n",
    "    else:\n",
    "        return True\n",
    "\n",
    "if __name__ == '__main__':\n",
    "    print(run({'a': 1, 'b': 1, 'c': 1, 'd': 1}))"
   ]
  },
  {
   "cell_type": "code",
   "execution_count": null,
   "metadata": {},
   "outputs": [
    {
     "name": "stdout",
     "output_type": "stream",
     "text": [
      "{'Episode IV - A New Hope': ['May 25', 1977, 'George Lucas'], 'Episode V - The Empire Strikes Back': ['May 21', 1980], 'Episode VI - Return of the Jedi': ['May 25', 1983]}\n"
     ]
    }
   ],
   "source": [
    "# ***************************\n",
    "# DICCIONARIO EN CONSTRUCCIÓN\n",
    "# Dada lista de listas con varios elementos, obtenga un diccionario donde las claves serán los primeros elementos de  │\n",
    "# las sublistas y los valores serán los restantes (como listas).\n",
    "# ***************************\n",
    "\n",
    "def run(items: list) -> dict:\n",
    "    # TU CÓDIGO AQUÍ\n",
    "    dictionary = {item[0]:item[1:] for item in items}\n",
    "\n",
    "    return dictionary\n",
    "\n",
    "if __name__ == '__main__':\n",
    "    print(run([['Episode IV - A New Hope', 'May 25', 1977, 'George Lucas'], ['Episode V - The Empire Strikes Back', 'May 21', 1980], \n",
    "         ['Episode VI - Return of the Jedi', 'May 25', 1983]]))"
   ]
  },
  {
   "cell_type": "code",
   "execution_count": null,
   "metadata": {},
   "outputs": [
    {
     "name": "stdout",
     "output_type": "stream",
     "text": [
      "{'C1': [], 'C2': [], 'C3': []}\n"
     ]
    }
   ],
   "source": [
    "# **********************\n",
    "# BORRANDO VALORES CLAVE\n",
    "# Dado un diccionario cuyos valores son listas, genere un diccionario nuevo donde se borre el contenido de dichas     │\n",
    "# listas.                                                                                                             │                                                                                                                     │\n",
    "# Resuelva el ejercicio utilizando diccionarios por comprensión.\n",
    "# **********************\n",
    "\n",
    "def run(items: dict) -> dict:\n",
    "    # TU CÓDIGO AQUÍ\n",
    "    citems = {key:[] for key in items.keys()}\n",
    "\n",
    "    return citems\n",
    "\n",
    "if __name__ == '__main__':\n",
    "    print(run({'C1': [10, 20, 30], 'C2': [20, 30, 40], 'C3': [12, 34]}))"
   ]
  },
  {
   "cell_type": "code",
   "execution_count": null,
   "metadata": {},
   "outputs": [
    {
     "name": "stdout",
     "output_type": "stream",
     "text": [
      "3\n",
      "5\n",
      "4.0\n",
      "{2: 1, 1: 3, 0.5: 4}\n"
     ]
    }
   ],
   "source": [
    "# **************************\n",
    "# AQUÍ TIENE SU VUELTA (MAX)\n",
    "# Un cliente compra un artículo en una tienda con dinero suficiente (mayor o igual) que el importe del artículo. Por  │\n",
    "# lo tanto hay que devolver el cambio. La tienda dispone de una serie concreta de monedas/billetes con un máximo de   │\n",
    "# unidades de cada moneda/billete. El objetivo del ejercicio es devolver el cambio al cliente empezando por la        │\n",
    "# moneda/billete más grande y llegando hasta la más pequeña.                                                          │                                                                                                                     │\n",
    "# Notas:                                                                                                              │                                                                                                                    │\n",
    "#  • Si el dinero es justo hay que devolver un diccionario vacío.                                                     │\n",
    "#  • Si el cambio no es posible hay que devolver None\n",
    "# **************************\n",
    "\n",
    "def run(to_give_back: float, available_currencies: dict) -> dict:\n",
    "    # TU CÓDIGO AQUÍ\n",
    "    money_back = {}\n",
    "    to_give_back_copy = to_give_back\n",
    "    for key in sorted(available_currencies.keys(), reverse=True):\n",
    "        div = to_give_back // key\n",
    "        print(div)\n",
    "        if div > 0:\n",
    "            money_back[key] = min(int(div), available_currencies[key])\n",
    "            to_give_back -= money_back[key] * key\n",
    "            \n",
    "    cont = [i * j for i, j in zip(list(money_back.keys()), list(money_back.values()))]\n",
    "    if sum(cont) != to_give_back_copy:\n",
    "        return None\n",
    "    elif sum(cont) == to_give_back_copy:     \n",
    "        return money_back\n",
    "        \n",
    "if __name__ == '__main__':\n",
    "    print(run(7, {2: 1, 1: 3, 0.5: 10}))"
   ]
  },
  {
   "cell_type": "code",
   "execution_count": null,
   "metadata": {},
   "outputs": [
    {
     "name": "stdout",
     "output_type": "stream",
     "text": [
      "{'S001': ['Math', 'Science'], 'S002': ['Math', 'English']}\n"
     ]
    }
   ],
   "source": [
    "# ********************\n",
    "# LA CLAVE ES LA CLAVE\n",
    "# A partir de un diccionario, obtenga un nuevo diccionario eliminando los espacios de sus claves respetando los       │\n",
    "# valores correspondientes.\n",
    "# ********************\n",
    "\n",
    "def run(items: dict) -> dict:\n",
    "    # TU CÓDIGO AQUÍ\n",
    "    fitems = {key.replace(' ', ''):value for key, value in items.items()}\n",
    "    return fitems\n",
    "\n",
    "if __name__ == '__main__':\n",
    "    print(run({'S  001': ['Math', 'Science'], 'S    002': ['Math', 'English']}))"
   ]
  },
  {
   "cell_type": "code",
   "execution_count": null,
   "metadata": {},
   "outputs": [
    {
     "name": "stdout",
     "output_type": "stream",
     "text": [
      "True\n"
     ]
    }
   ],
   "source": [
    "# ***********\n",
    "# ¿HAY STOCK?\n",
    "# Usted es encargado de una empresa de merchandising y dispone de un cierto stock para los artículos. El cliente hace │\n",
    "# un pedido especificando el artículo y la cantidad requerida.                                                        │                                                                                                                     │\n",
    "# Usted debe comprobar si existe stock para la cantidad solicitada del artículo indicando True o False.\n",
    "# ***********\n",
    "\n",
    "def run(stock: dict, merch: str, amount: int) -> bool:\n",
    "    # TU CÓDIGO AQUÍ\n",
    "    if amount <= stock[merch]:\n",
    "        return True\n",
    "    else:\n",
    "        return True\n",
    "\n",
    "if __name__ == '__main__':\n",
    "    print(run({'pen': 20, 'cup': 11, 'keyring': 40}, 'cup', 9))"
   ]
  },
  {
   "cell_type": "code",
   "execution_count": null,
   "metadata": {},
   "outputs": [
    {
     "name": "stdout",
     "output_type": "stream",
     "text": [
      "{'A': 6, 'B': 5, 'C': 4}\n"
     ]
    }
   ],
   "source": [
    "# *************************\n",
    "# MOVIMIENTOS DE INVENTARIO\n",
    "#Somos responsables del inventario de una empresa. A final de mes nos llega una cadena de texto indicando los        │\n",
    "# movimientos del inventario. Esta cadena de texto tiene el formato siguiente:                                        │                                                                                                                    │                                                                                                                     │\n",
    "#  <mov_art>,<mov_art>,<mov_art>,...                                                                                  │                                                                                                                     │                                                                                                                     │\n",
    "# El objetivo es saber el estado final del inventario de cada artículo a través de un diccionario donde las claves    │\n",
    "# son los artículos y los valores son la cantidad de artículos existentes.                                            │                                                                                                                     │\n",
    "# Notas:                                                                                                              │                                                                                                                     │\n",
    "#  • El inventario puede quedar en números negativos.                                                                 │\n",
    "#  • Los nombres de los artículos son letras (cadenas de texto de 1 caracter).                                        │\n",
    "#  • Las modificaciones de inventario siempre son números enteros (pueden ser negativos).\n",
    "# *************************\n",
    "\n",
    "def run(imoves: str) -> dict:\n",
    "    # TU CÓDIGO AQUÍ\n",
    "    imoves = imoves.split(',')\n",
    "    inventory = {}\n",
    "    for move in imoves: \n",
    "        if move[0] not in inventory:\n",
    "            inventory[move[0]] = int(move[1:])\n",
    "        else:\n",
    "            inventory[move[0]] += int(move[1:])\n",
    "    return inventory\n",
    "\n",
    "if __name__ == '__main__':\n",
    "    print(run('A1,B4,A-2,A7,B1,C4'))"
   ]
  },
  {
   "cell_type": "code",
   "execution_count": null,
   "metadata": {},
   "outputs": [
    {
     "name": "stdout",
     "output_type": "stream",
     "text": [
      "{'a': 3, 'b': 2, 'c': 4}\n"
     ]
    }
   ],
   "source": [
    "# **********************\n",
    "# MEZCLANDO DICCIONARIOS\n",
    "# Dados dos diccionarios de entrada, escriba un programa en Python que mezcle ambos diccionarios en uno único de      │\n",
    "# salida, sin usar métodos de mezcla definidos en Python como:                                                        │                                                                                                                                                                                                                                         │\n",
    "#  {**a, **b}                                                                                                         │\n",
    "#  a | b                                                                                                              │\n",
    "#  a.update(b)\n",
    "# **********************\n",
    "\n",
    "def run(d1: dict, d2: dict) -> dict:\n",
    "    # TU CÓDIGO AQUÍ\n",
    "    merged = {}\n",
    "    for key, value in d1.items():\n",
    "        merged[key] = value\n",
    "    for key, value in d2.items():\n",
    "        merged[key] = value\n",
    "    return merged\n",
    "\n",
    "if __name__ == '__main__':\n",
    "    print(run({'a': 1, 'b': 2}, {'a': 3, 'c': 4}))"
   ]
  },
  {
   "cell_type": "code",
   "execution_count": null,
   "metadata": {},
   "outputs": [
    {
     "name": "stdout",
     "output_type": "stream",
     "text": [
      "{'Red': 'C3', 'Black': 'C2', 'Green': 'C4'}\n",
      "[('C2', 'Black'), ('C4', 'Green'), ('C3', 'Red')]\n"
     ]
    }
   ],
   "source": [
    "# *********************\n",
    "# ORDENE MI DICCIONARIO\n",
    "#Dado un diccionario de entrada, escriba un programa que lo ordene en base a sus valores de forma ascendente.        │                                                                                                                     │\n",
    "# Se puede asumir que:                                                                                                │                                                                                                                     │\n",
    "#  • Tanto las claves como los valores del diccionario de entrada van a ser cadenas de texto.                         │\n",
    "#  • Tanto las claves como los valores del diccionario de entrada no van a contener dos puntos ':'                    │                                                                                                                     │\n",
    "# La salida tendrá que ser una lista de tuplas (clave, valor) ya ordenadas.\n",
    "# *********************\n",
    "\n",
    "def run(unsorted_items: dict) -> list:\n",
    "    # TU CÓDIGO AQUÍ\n",
    "    unsorted_items = list(unsorted_items.items())\n",
    "    sorted_items = sorted(unsorted_items, key=lambda t: t[1])\n",
    "    return sorted_items\n",
    "\n",
    "if __name__ == '__main__':\n",
    "    print(run({'C1': 'Red', 'C2': 'Black', 'C3': 'Red', 'C4': 'Green'}))"
   ]
  },
  {
   "cell_type": "code",
   "execution_count": null,
   "metadata": {},
   "outputs": [
    {
     "name": "stdout",
     "output_type": "stream",
     "text": [
      "{5: 4, 2: 10, 1: 20}\n"
     ]
    }
   ],
   "source": [
    "# ********************\n",
    "# AQUÍ TIENE SU VUELTA\n",
    "# Un cliente compra un artículo en una tienda con dinero suficiente (mayor o igual) que el importe del artículo. Por  │\n",
    "# lo tanto hay que devolver el cambio. La tienda dispone de una serie concreta de monedas/billetes. El objetivo del   │\n",
    "# ejercicio es devolver el cambio al cliente empezando por la moneda/billete más grande y llegando hasta la más       │\n",
    "# pequeña.                                                                                                            │                                                                                                                     │\n",
    "# Notas:                                                                                                              │                                                                                                                     │\n",
    "# • Si el dinero es justo hay que devolver un diccionario vacío.                                                     │\n",
    "#  • Si el cambio no es posible hay que devolver None\n",
    "# ********************\n",
    "\n",
    "def run(to_give_back: float, available_currencies: list) -> dict:\n",
    "    # TU CÓDIGO AQUÍ\n",
    "    money_back = {}\n",
    "    for available in sorted(available_currencies, reverse=True):\n",
    "        back = to_give_back // available\n",
    "        money_back[available] = back\n",
    "                \n",
    "        if sum(list(money_back.values())) \n",
    "\n",
    "    return money_back\n",
    "\n",
    "if __name__ == '__main__':\n",
    "    print(run(20, [5, 2, 1]))"
   ]
  },
  {
   "cell_type": "code",
   "execution_count": null,
   "metadata": {},
   "outputs": [
    {
     "name": "stdout",
     "output_type": "stream",
     "text": [
      "26.29\n",
      "23.65\n",
      "25.84\n",
      "24.35\n",
      "27.03\n",
      "24.52\n",
      "27.90\n",
      "26.39\n",
      "26.32\n",
      "25.71\n",
      "27.32\n",
      "26.00\n",
      "False\n"
     ]
    }
   ],
   "source": [
    "# *******************\n",
    "# TEMPERATURAS MEDIAS\n",
    "# Dado un fichero de entrada con 12 filas (meses) y 31 columnas (temperaturas de cada día) se pide:                   │                                                                                                                     │\n",
    "#  1 Leer el fichero de datos.                                                                                        │\n",
    "#  2 Calcular la temperatura media de cada mes.                                                                       │\n",
    "#  3 Escribir un fichero de salida con 12 filas (meses) y la temperatura media de cada mes.                           │\n",
    "#  4 Usar formato de string con 2 cifras decimales para la salida.\n",
    "# *******************\n",
    "import filecmp\n",
    "from pathlib import Path\n",
    "\n",
    "def run(input_path: Path) -> bool:\n",
    "    output_path = 'data/avg_temps/avg_temps.dat'\n",
    "    # TU CÓDIGO AQUÍ\n",
    "    temp = 0\n",
    "    f = open(input_path, 'r')\n",
    "    r = open(output_path, 'w')\n",
    "    for line in f:\n",
    "        temp = line.strip().split(',')\n",
    "        temp = [int(i) for i in temp]\n",
    "        print(f'{(sum(temp) / len(temp)):.2f}')\n",
    "        r.write(f'{(sum(temp) / len(temp)):.2f}' + '\\n')\n",
    "    f.close()\n",
    "    r.close()\n",
    "\n",
    "    return filecmp.cmp(output_path, 'data/avg_temps/.expected', shallow=False)\n",
    "\n",
    "if __name__ == '__main__':\n",
    "    print(run('data/avg_temps/temperatures.dat'))"
   ]
  },
  {
   "cell_type": "code",
   "execution_count": null,
   "metadata": {},
   "outputs": [
    {
     "name": "stdout",
     "output_type": "stream",
     "text": [
      "(1, 5, 26)\n"
     ]
    }
   ],
   "source": [
    "# ****************\n",
    "# CONTANDO COMO WC\n",
    "# \"wc\" es una utilidad super conocida en sistemas Linux. Nos permite contar el número de líneas, palabras y bytes que │\n",
    "# hay en un fichero.                                                                                                  │                                                                                                                     │\n",
    "# Escriba un programa en Python que simule el mismo comportamiento, recibiendo una ruta a un fichero y devolviendo    │\n",
    "# esas tres variables.                                                                                                │                                                                                                                     │\n",
    "# Notas:                                                                                                              │                                                                                                                     │\n",
    "#  • Considerar únicamente el espacio en blanco como delimitador de palabras.                                         │\n",
    "#  • El número de bytes que ocupa un string \"s\" se puede calcular con: len(s.encode('utf-8'))                         │\n",
    "#  • Ojo con las líneas en blanco, pueden llevarle a un resultado incorrecto.\n",
    "# ****************\n",
    "from pathlib import Path\n",
    "\n",
    "def run(input_path: Path) -> tuple:\n",
    "    # TU CÓDIGO AQUÍ\n",
    "    num_lines = num_words = num_bytes = 0\n",
    "    with open(input_path, 'r', encoding='utf-8') as f:\n",
    "        for line in f:\n",
    "            num_lines += 1\n",
    "            num_bytes += len(line.encode('utf-8'))\n",
    "            if len(line) > 1:\n",
    "                num_words += len(line.strip().split(' ')) \n",
    "            else:\n",
    "                continue\n",
    "\n",
    "    return num_lines, num_words, num_bytes\n",
    "\n",
    "if __name__ == '__main__':\n",
    "    print(run('data/wc/emojis.txt'))"
   ]
  },
  {
   "cell_type": "code",
   "execution_count": null,
   "metadata": {},
   "outputs": [
    {
     "name": "stdout",
     "output_type": "stream",
     "text": [
      "False\n"
     ]
    }
   ],
   "source": [
    "# *******************\n",
    "# DE TEXTO A MARKDOWN\n",
    "# Partiendo de un fichero de texto que representa un guión de un informe con sus epígrafes, obtenga el fichero        │\n",
    "# markdown equivalente. Habrá que tener en cuenta que los tabuladores indican el nivel de profundidad de cada título. │                                                                                                                     │\n",
    "# Notas:                                                                                                              │                                                                                                                     │\n",
    "#  • Se puede suponer que no habrá otros tabuladores distintos a los de comienzo de línea.\n",
    "# *******************\n",
    "import filecmp\n",
    "from pathlib import Path\n",
    "\n",
    "def run(text_path: Path) -> bool:\n",
    "    md_path = 'data/txt2md/outline.md'\n",
    "    # TU CÓDIGO AQUÍ\n",
    "    with open(text_path, 'r', encoding='utf-8') as f, open(md_path, 'w', encoding='utf-8') as f0, open(md_path, 'w', encoding='utf-8') as f1:\n",
    "        for line in f:\n",
    "            tab_cont = line.count('\\t')\n",
    "            match tab_cont:\n",
    "                case 0:\n",
    "                    f0.write('# ' + line.strip() + '\\n')\n",
    "                case 1:\n",
    "                    f0.write('## ' + line.strip() + '\\n')\n",
    "                case 2:\n",
    "                    f0.write('### ' + line.strip() + '\\n')\n",
    "                case 3:\n",
    "                    f0.write('#### ' + line.strip() + '\\n')\n",
    "                    \n",
    "    return filecmp.cmp(md_path, 'data/txt2md/.expected', shallow=False)\n",
    "\n",
    "if __name__ == '__main__':\n",
    "    print(run(Path('data/txt2md/outline.txt')))"
   ]
  },
  {
   "cell_type": "code",
   "execution_count": null,
   "metadata": {},
   "outputs": [
    {
     "name": "stdout",
     "output_type": "stream",
     "text": [
      "[(73, 25), (75, 25)]\n"
     ]
    }
   ],
   "source": [
    "from pathlib import Path\n",
    "\n",
    "def run(data_path: Path, target_word: str) -> list:\n",
    "    matches = []\n",
    "    with open(data_path, 'r', encoding='utf-8') as f:\n",
    "        target_word = target_word.lower()\n",
    "        for i, line in enumerate(f):\n",
    "            line = line.lower()\n",
    "            #if target_word in line and line.count(target_word) < 2:\n",
    "             #   matches.append((i + 1, line.find(target_word) + 1))\n",
    "            index = line.find(target_word)\n",
    "            while index != -1:\n",
    "                if (index == 0 or line[index - 1] == ' ') and (index + len(target_word) == len(line) or line[index + len(target_word)] == ' '):\n",
    "                    print()\n",
    "                    matches.append((i + 1, index + 1))\n",
    "                index = line.find(target_word, index + 1)\n",
    "    return matches  \n",
    "\n",
    "if __name__ == '__main__':\n",
    "    print(run('data/find_words/bzrp.txt', 'buena'))"
   ]
  },
  {
   "cell_type": "code",
   "execution_count": null,
   "metadata": {},
   "outputs": [
    {
     "name": "stdout",
     "output_type": "stream",
     "text": [
      "False\n"
     ]
    }
   ],
   "source": [
    "# ****************\n",
    "# SUMANDO MATRICES\n",
    "# Dados dos ficheros de texto que contienen sendas matrices cuadradas, obtenga la suma de dichas matrices en un       │\n",
    "# fichero de salida con el mismo formato.\n",
    "# ****************\n",
    "import filecmp\n",
    "from pathlib import Path\n",
    "\n",
    "def run(matrix1_path: Path, matrix2_path: Path) -> bool:\n",
    "    result_path = 'data/sum_matrix/result.dat'\n",
    "    # TU CÓDIGO AQUÍ\n",
    "    # Se abren 3 manejadores de ficheros, f, p y t.\n",
    "    with open(matrix1_path, 'r', encoding='utf-8') as f, open(matrix2_path, 'r', encoding='utf-8') as p,\\\n",
    "        open(result_path, 'w', encoding='utf-8') as t:\n",
    "            # Se recorren las 2 matrices de entrada a la vez.\n",
    "            # Se recorren al mismo tiempo las dos filas previamente tratadas y se guarda la suma de cada elemento de fila\n",
    "            # Se recorre la lista, si i == (len(lista) - 1) se le agrega un salto de linea para diferenciar la siguiente fila\\\n",
    "                # si no, se agrega un espacio en blanco al elemento en turno para separa numeros.\n",
    "        for line_0, line_1 in zip(f, p):\n",
    "            comp_sum = [int(i) + int(j) for i, j in zip(line_0.strip().split(' '), line_1.strip().split(' '))]\n",
    "            comp_sum = [str(comp_sum[i]) + '\\n' if i == (len(comp_sum) - 1) else str(comp_sum[i]) + ' ' for i in range(len(comp_sum))]\n",
    "            t.writelines(comp_sum)\n",
    "    return filecmp.cmp(result_path, 'data\\sum_matrix\\.expected', shallow=False)\n",
    "\n",
    "if __name__ == '__main__':\n",
    "    print(run('data/sum_matrix/matrix1.dat', 'data/sum_matrix/matrix2.dat'))"
   ]
  },
  {
   "cell_type": "code",
   "execution_count": null,
   "metadata": {},
   "outputs": [
    {
     "name": "stdout",
     "output_type": "stream",
     "text": [
      "['Python', 'es', 'un', 'lenguaje', 'de', 'alto', 'nivel', 'de', 'programación', 'interpretado', 'cuya', 'filosofía', 'hace', 'hincapié', 'en', 'la', 'legibilidad', 'de', 'su', 'código', 'se', 'utiliza', 'para', 'desarrollar', 'aplicaciones', 'de', 'todo', 'tipo', 'ejemplos', 'Instagram', 'Netflix', 'Spotify', 'Panda3D', '.'] \n",
      " ['entre', 'otros', 'Se', 'trata', 'de', 'un', 'lenguaje', 'de', 'programación', 'multiparadigma', 'ya', 'que', 'soporta', 'parcialmente', 'la', 'orientación', 'a', 'objetos', 'programación', 'imperativa', 'y', 'en', 'menor', 'medida', 'programación', 'funcional', 'Es', 'un', 'lenguaje', 'interpretado', 'dinámico', 'y', 'multiplataforma']\n",
      "multiplataforma\n"
     ]
    }
   ],
   "source": [
    "# ********************\n",
    "# LA PALABRA MÁS LARGA\n",
    "# Dado un fichero de texto encuentre la palabra más larga.                                                            │                                                                                                                    │\n",
    "# Notas:                                                                                                              │                                                                                                                 │\n",
    "# • Si hay varias palabras con la misma longitud devuelva la última ocurrencia.                                      │\n",
    "# • Tener en cuenta los siguientes símbolos como frontera de palabras: ,.;:()\n",
    "# ********************\n",
    "from pathlib import Path\n",
    "\n",
    "def run(input_path: Path) -> str:\n",
    "    # TU CÓDIGO AQUÍ\n",
    "    longest_word = ''\n",
    "    # Creamos un manejador de ficheros\n",
    "    with open(input_path, 'r', encoding='utf-8') as f:\n",
    "        # Iteramos en cada linea\n",
    "        for line in f:\n",
    "            i = 0\n",
    "             # Si len(line) != 0, se limpia y se almacena en una lista separada por palabras(si el str es alfanumerico se agrega tal cual\\\n",
    "                 # si no, se remplazan los caracteres sobrantes)\n",
    "            if len(line) > 1:\n",
    "                line = line.strip().split(' ')\n",
    "                just_words = [i if i.isalnum() else i.replace(',', '').replace('.', '').replace(';', '').replace(':', '')\\\n",
    "                    .replace('(', '').replace(')', '') for i in line] \n",
    "                # Se divide en dos listas, dos mitades, se agrega un str si hay alguna lista mas pequeña y se invierte una de las dos.\n",
    "                left_m = just_words[:len(just_words) // 2]\n",
    "                right_m = just_words[len(just_words) // 2:]\n",
    "                if left_m > right_m:\n",
    "                    right_m.append('.')\n",
    "                elif right_m > left_m:\n",
    "                    left_m.append('.')\n",
    "                print(left_m, '\\n', right_m)\n",
    "                # Se compara el tamaño de las palabras de ambas listas entre si y con 'longest_word'. Se retorna el valor final mas grande.\n",
    "                while i < len(right_m):\n",
    "                    if not longest_word:\n",
    "                        longest_word = right_m[i]\n",
    "                    elif len(left_m[i]) > len(right_m[i]) and len(left_m[i]) > len(longest_word):\n",
    "                        longest_word = left_m[i]\n",
    "                    elif len(right_m[i]) > len(left_m[i]) and len(right_m[i]) > len(longest_word):\n",
    "                        longest_word = right_m[i]\n",
    "                    i += 1\n",
    "                \n",
    "    return longest_word\n",
    "\n",
    "if __name__ == '__main__':\n",
    "    print(run('data/longest_word/python.txt'))"
   ]
  },
  {
   "cell_type": "code",
   "execution_count": null,
   "metadata": {},
   "outputs": [
    {
     "name": "stdout",
     "output_type": "stream",
     "text": [
      "{'to': 10, 'the': 20}\n"
     ]
    }
   ],
   "source": [
    "# **********************\n",
    "# FRECUENCIA DE PALABRAS\n",
    "# Dado un fichero de texto y un valor umbral se pide hacer un programa en Python que calcule la frecuencia de cada    │\n",
    "# palabra en el fichero de entrada pero únicamente mostrando aquellas entradas con frecuencia mayor o igual que el    │\n",
    "# valor umbral.                                                                                                       │                                                                                                                     │\n",
    "# Notas:                                                                                                              │                                                                                                                     │\n",
    "#  • La salida se dará en forma de diccionario donde las claves serán las palabras y los valores serán las            │\n",
    "#    frecuencias.                                                                                                     │\n",
    "#  • Se puede suponer que todas las palabras se separan única y exclusivamente por un espacio.                        │\n",
    "#  • No hay que hacer distinción entre mayúsculas y minúsculas.\n",
    "# **********************\n",
    "from pathlib import Path\n",
    "\n",
    "def run(input_path: Path, lower_bound: int) -> dict:\n",
    "    # TU CÓDIGO AQUÍ\n",
    "    freq = {}\n",
    "    clean_str = []\n",
    "    # Se crea manejador de ficheros\n",
    "    with open(input_path, 'r', encoding='utf-8') as f:\n",
    "        # Se iteran las lineas del fichero\n",
    "        for line in f:\n",
    "            # Se prepara cada linea limpiando saltos, all minusculas y separando por espacios, se suman las lineas tratadas en una lista\\\n",
    "                # (split() ya genera una lista).\n",
    "            if len(line) > 1:\n",
    "                clean_str += line.strip().lower().split(' ')\n",
    "                # Se usa set para conservar solo palabras unicas\n",
    "                set_list = set(clean_str)\n",
    "        # Iteramos sobre la set_list para contar las coincidencias de cada palabra en clean_str, si es igual o mayor a loewr_bound, se agrega\\\n",
    "            # dicha palabra y su frecuencia a un diccionario. \n",
    "        for word in set_list:\n",
    "            if clean_str.count(word) >= lower_bound:\n",
    "                freq[word] = clean_str.count(word)\n",
    "\n",
    "    return freq\n",
    "\n",
    "if __name__ == '__main__':\n",
    "    print(run('data/word_freq/cistercian.txt', 9))"
   ]
  },
  {
   "cell_type": "code",
   "execution_count": null,
   "metadata": {},
   "outputs": [
    {
     "name": "stdout",
     "output_type": "stream",
     "text": [
      "Starbucks Corp\n"
     ]
    }
   ],
   "source": [
    "# *****************\n",
    "# HAN CANTADO LÍNEA\n",
    "# Dado un fichero de texto y un número de línea como entradas al programa, devuelva la línea que corresponda del      │\n",
    "# fichero. Si el número de línea indicado no corresponde con ninguno del fichero se debe devolver None.               │                                                                                                                     │\n",
    "# Tener en cuenta que la primera línea debe empezar en 1.\n",
    "# *****************\n",
    "from pathlib import Path\n",
    "\n",
    "def run(input_path: Path, line_no: int) -> str:\n",
    "    # TU CÓDIGO AQUÍ\n",
    "    # Se crea un manejador de ficheros, se limpia cada linea y se almacena en una lista para poder contar lineas.\n",
    "    with open(input_path, 'r', encoding='utf-8') as f:\n",
    "        comp_line = [line.strip() for line in f]\n",
    "    # Si line_no esta en el rango de cantidad de lineas de la lista, se retorna dicha linea.\n",
    "    if line_no in range(1, len(comp_line) - 1):\n",
    "        return comp_line[line_no - 1]\n",
    "\n",
    "if __name__ == '__main__':\n",
    "    print(run('data/get_line/nasdaq.txt', 20))"
   ]
  },
  {
   "cell_type": "code",
   "execution_count": null,
   "metadata": {},
   "outputs": [
    {
     "ename": "OSError",
     "evalue": "[WinError 123] El nombre de archivo, el nombre de directorio o la sintaxis de la etiqueta del volumen no son correctos: 'data\\replace_chars\\\\.expected'",
     "output_type": "error",
     "traceback": [
      "\u001b[1;31m---------------------------------------------------------------------------\u001b[0m",
      "\u001b[1;31mOSError\u001b[0m                                   Traceback (most recent call last)",
      "Cell \u001b[1;32mIn[1], line 25\u001b[0m\n\u001b[0;32m     22\u001b[0m     \u001b[38;5;28;01mreturn\u001b[39;00m filecmp\u001b[38;5;241m.\u001b[39mcmp(output_path, \u001b[38;5;124m'\u001b[39m\u001b[38;5;124mdata\u001b[39m\u001b[38;5;130;01m\\r\u001b[39;00m\u001b[38;5;124meplace_chars\u001b[39m\u001b[38;5;124m\\\u001b[39m\u001b[38;5;124m.expected\u001b[39m\u001b[38;5;124m'\u001b[39m, shallow\u001b[38;5;241m=\u001b[39m\u001b[38;5;28;01mFalse\u001b[39;00m)\n\u001b[0;32m     24\u001b[0m \u001b[38;5;28;01mif\u001b[39;00m \u001b[38;5;18m__name__\u001b[39m \u001b[38;5;241m==\u001b[39m \u001b[38;5;124m'\u001b[39m\u001b[38;5;124m__main__\u001b[39m\u001b[38;5;124m'\u001b[39m:\n\u001b[1;32m---> 25\u001b[0m     \u001b[43mrun\u001b[49m\u001b[43m(\u001b[49m\u001b[38;5;124;43m'\u001b[39;49m\u001b[38;5;124;43mdata/replace_chars/noticia.txt\u001b[39;49m\u001b[38;5;124;43m'\u001b[39;49m\u001b[43m,\u001b[49m\u001b[43m \u001b[49m\u001b[38;5;124;43m'\u001b[39;49m\u001b[38;5;124;43máa|ée|íi|óo|úu\u001b[39;49m\u001b[38;5;124;43m'\u001b[39;49m\u001b[43m)\u001b[49m\n",
      "Cell \u001b[1;32mIn[1], line 22\u001b[0m, in \u001b[0;36mrun\u001b[1;34m(input_path, replacements)\u001b[0m\n\u001b[0;32m     20\u001b[0m             line \u001b[38;5;241m=\u001b[39m line\u001b[38;5;241m.\u001b[39mreplace(i[\u001b[38;5;241m0\u001b[39m], i[\u001b[38;5;241m1\u001b[39m])\n\u001b[0;32m     21\u001b[0m         p\u001b[38;5;241m.\u001b[39mwrite(line)\n\u001b[1;32m---> 22\u001b[0m \u001b[38;5;28;01mreturn\u001b[39;00m \u001b[43mfilecmp\u001b[49m\u001b[38;5;241;43m.\u001b[39;49m\u001b[43mcmp\u001b[49m\u001b[43m(\u001b[49m\u001b[43moutput_path\u001b[49m\u001b[43m,\u001b[49m\u001b[43m \u001b[49m\u001b[38;5;124;43m'\u001b[39;49m\u001b[38;5;124;43mdata\u001b[39;49m\u001b[38;5;130;43;01m\\r\u001b[39;49;00m\u001b[38;5;124;43meplace_chars\u001b[39;49m\u001b[38;5;124;43m\\\u001b[39;49m\u001b[38;5;124;43m.expected\u001b[39;49m\u001b[38;5;124;43m'\u001b[39;49m\u001b[43m,\u001b[49m\u001b[43m \u001b[49m\u001b[43mshallow\u001b[49m\u001b[38;5;241;43m=\u001b[39;49m\u001b[38;5;28;43;01mFalse\u001b[39;49;00m\u001b[43m)\u001b[49m\n",
      "File \u001b[1;32mc:\\Users\\senriquez\\AppData\\Local\\Programs\\Python\\Python311\\Lib\\filecmp.py:54\u001b[0m, in \u001b[0;36mcmp\u001b[1;34m(f1, f2, shallow)\u001b[0m\n\u001b[0;32m     31\u001b[0m \u001b[38;5;250m\u001b[39m\u001b[38;5;124;03m\"\"\"Compare two files.\u001b[39;00m\n\u001b[0;32m     32\u001b[0m \n\u001b[0;32m     33\u001b[0m \u001b[38;5;124;03mArguments:\u001b[39;00m\n\u001b[1;32m   (...)\u001b[0m\n\u001b[0;32m     50\u001b[0m \n\u001b[0;32m     51\u001b[0m \u001b[38;5;124;03m\"\"\"\u001b[39;00m\n\u001b[0;32m     53\u001b[0m s1 \u001b[38;5;241m=\u001b[39m _sig(os\u001b[38;5;241m.\u001b[39mstat(f1))\n\u001b[1;32m---> 54\u001b[0m s2 \u001b[38;5;241m=\u001b[39m _sig(\u001b[43mos\u001b[49m\u001b[38;5;241;43m.\u001b[39;49m\u001b[43mstat\u001b[49m\u001b[43m(\u001b[49m\u001b[43mf2\u001b[49m\u001b[43m)\u001b[49m)\n\u001b[0;32m     55\u001b[0m \u001b[38;5;28;01mif\u001b[39;00m s1[\u001b[38;5;241m0\u001b[39m] \u001b[38;5;241m!=\u001b[39m stat\u001b[38;5;241m.\u001b[39mS_IFREG \u001b[38;5;129;01mor\u001b[39;00m s2[\u001b[38;5;241m0\u001b[39m] \u001b[38;5;241m!=\u001b[39m stat\u001b[38;5;241m.\u001b[39mS_IFREG:\n\u001b[0;32m     56\u001b[0m     \u001b[38;5;28;01mreturn\u001b[39;00m \u001b[38;5;28;01mFalse\u001b[39;00m\n",
      "\u001b[1;31mOSError\u001b[0m: [WinError 123] El nombre de archivo, el nombre de directorio o la sintaxis de la etiqueta del volumen no son correctos: 'data\\replace_chars\\\\.expected'"
     ]
    }
   ],
   "source": [
    "# ***********************\n",
    "# REEMPLAZO DE CARACTERES\n",
    "# El objetivo es reemplazar caracteres en un fichero de entrada. Los caracteres a reemplazar vienen definidos en una  │\n",
    "# variable de entrada como cadena de texto, con el formato:                                                           │                                                                                                                                                                                                                                         │\n",
    "#  <old_char><new_char>|<old_char><new_char>|...                                                                      │                                                                                                                                                                                                                                          │\n",
    "# La salida debe ser otro fichero de texto con el mismo contenido que la entrada pero reemplazando los caracteres     │\n",
    "# indicados.\n",
    "# ***********************\n",
    "import filecmp\n",
    "from pathlib import Path\n",
    "\n",
    "def run(input_path: Path, replacements: str) -> bool:\n",
    "    output_path = 'data/replace_chars/r_noticia.txt'\n",
    "    # TU CÓDIGO AQUÍ\n",
    "    # Se crean dos manejadores de ficheros (f, p), \n",
    "    with open(input_path, 'r', encoding='utf-8') as f, open(output_path, 'w', encoding='utf-8') as p:\n",
    "        # Se convierte la cadena de remplazo en una lista formateada y separada por el caracter '|'\n",
    "        replacements = replacements.strip().split('|')\n",
    "        # Se itera cada linea y cada caracter de remplazo\n",
    "        for line in f:\n",
    "            for i in replacements:\n",
    "                # Se modifica cada caracater que tenga un remplazo.\n",
    "                line = line.replace(i[0], i[1])\n",
    "            p.write(line)\n",
    "    return filecmp.cmp(output_path, 'data\\replace_chars\\.expected', shallow=False)\n",
    "\n",
    "if __name__ == '__main__':\n",
    "    run('data/replace_chars/noticia.txt', 'áa|ée|íi|óo|úu')"
   ]
  },
  {
   "cell_type": "code",
   "execution_count": null,
   "metadata": {},
   "outputs": [
    {
     "name": "stdout",
     "output_type": "stream",
     "text": [
      "A ██████████████████ 18\n",
      "\n",
      "B ███████████████ 15\n",
      "\n",
      "C █████████████ 13\n",
      "\n",
      "D █████████████ 13\n",
      "\n",
      "E ███████████ 11\n",
      "\n",
      "F ██████████ 10\n",
      "\n",
      "G ██████ 6\n",
      "\n",
      "H ██████████████ 14\n",
      "\n",
      "False\n"
     ]
    }
   ],
   "source": [
    "# **********\n",
    "# HISTOGRAMA\n",
    "# Un histograma es un diagrama que permite visualizar la distribución de frecuencias sobre un determinado conjunto de │\n",
    "# valores.                                                                                                            │                                                                                                                     │\n",
    "# Partiendo de un fichero de entrada que contiene letras de forma consecutiva se pide calcular la frecuencia absoluta │\n",
    "# de cada una de las etiquetas (letras) y generar un fichero de salida con el histograma correspondiente. En otras    │\n",
    "# palabras, hay que contar el número de As, Bs, Cs, ...                                                               │                                                                                                                     │\n",
    "# Para el caso que nos ocupa, la salida debería ser:\n",
    "#  A ██████████████████ 18                                                                                            │\n",
    "#  B ███████████████ 15                                                                                               │\n",
    "#  C █████████████ 13                                                                                                 │\n",
    "#  D █████████████ 13                                                                                                 │\n",
    "#  E ███████████ 11                                                                                                   │\n",
    "#  F ██████████ 10                                                                                                    │\n",
    "#  G ██████ 6                                                                                                         │\n",
    "#  H ██████████████ 14\n",
    "# **********\n",
    "import filecmp\n",
    "from pathlib import Path\n",
    "\n",
    "def run(data_path: Path) -> bool:\n",
    "    histogram_path = 'data/histogram/histogram.txt'\n",
    "    unique_letters = {}\n",
    "    with open(data_path, 'r', encoding='utf-8') as f, open(histogram_path, 'w', encoding='utf-8') as p:\n",
    "        for line in f:\n",
    "            for letter in line:\n",
    "                if letter not in unique_letters:\n",
    "                    unique_letters[letter] = 1\n",
    "                else:\n",
    "                    unique_letters[letter] += 1\n",
    "        unique_keys = sorted(unique_letters.keys())\n",
    "        for key in unique_keys:\n",
    "            #str_hist = str(key) + ' ' + str('█' * unique_letters[key]) + ' ' + str(unique_letters[key]) + '\\n'\n",
    "            str_hist = f'{key} {\"█\" * unique_letters[key]} {unique_letters[key]}\\n'\n",
    "            p.write(str_hist)\n",
    "            print(str_hist)\n",
    "    return filecmp.cmp(histogram_path, 'data\\histogram\\.expected', shallow=False)\n",
    "\n",
    "if __name__ == '__main__':\n",
    "    print(run('data/histogram/data.txt'))"
   ]
  },
  {
   "cell_type": "code",
   "execution_count": 12,
   "metadata": {},
   "outputs": [
    {
     "ename": "SyntaxError",
     "evalue": "invalid syntax (1107952812.py, line 39)",
     "output_type": "error",
     "traceback": [
      "\u001b[1;36m  Cell \u001b[1;32mIn[12], line 39\u001b[1;36m\u001b[0m\n\u001b[1;33m    distance = coord[cont][]\u001b[0m\n\u001b[1;37m                           ^\u001b[0m\n\u001b[1;31mSyntaxError\u001b[0m\u001b[1;31m:\u001b[0m invalid syntax\n"
     ]
    }
   ],
   "source": [
    "# ****************\n",
    "# YELLOW SUBMARINE\n",
    "# Tenemos un submarino que se mueve en \"x\" (distancia) y en \"y\" (profundidad). Los movimientos del submarino vienen   │\n",
    "# definidos en un fichero de entrada con el formato:                                                                  │                                                                                                                                                                                                                                          │\n",
    "#  <Litros de combustible>                                                                                            │\n",
    "#  <X>:<Y>,<X>:<Y>,...                                                                                                │                                                                                                                                                                                                                                          │\n",
    "# El submarino empieza en distancia 0 y profundidad 0, y se va moviendo en función de lo especificado en el fichero   │\n",
    "# de entrada. Ojo porque en la profundidad un valor positivo implica \"descender\" y un valor negativo implica          │\n",
    "# \"ascender\".                                                                                                                                                                                                                              │\n",
    "# El objetivo es encontrar las siguientes 3 variables finales: distancia, profundidad y combustible.                  │                                                                                                                     │\n",
    "# Notas:                                                                                                              │                                                                                                                     │\n",
    "#  • El consumo del submarino es de 3 litros por metro de distancia + 2 litros por metro de profundidad.              │\n",
    "#  • Si el submarino agota el combustible se debe parar.                                                              │\n",
    "#  • Si el submarino trata de \"subir\" de profundidad 0 se debe parar.                                                 │\n",
    "#  • Si el submarino trata de \"bajar\" de profundidad 600m se debe parar.                                              │\n",
    "#  • La comprobación de si el submarino ha agotado el combustible o a superado los límites de profundidad se          │\n",
    "#    realizarán al terminar cada movimiento completo, no en medio del movimiento.\n",
    "# ****************\n",
    "from pathlib import Path\n",
    "\n",
    "def run(route_path: Path) -> tuple:\n",
    "    # TU CÓDIGO AQUÍ\n",
    "    #Creamos un manejador de ficheros\n",
    "    with open(route_path, 'r', encoding='utf-8') as f:\n",
    "        # Variables distance, depth and fuel.\n",
    "        distance = 0 \n",
    "        fuel = 0\n",
    "        depth = 0\n",
    "        # Iteramos en cada linea\n",
    "        lines = f.readlines()\n",
    "        fuel = int(lines[0].strip())\n",
    "        coord = lines[1].strip().split(',')\n",
    "        coord = [num.split(':') for num in coord] # genera error al guardar coordenadas como str\n",
    "        coord = [[int(sub_array[0]), int(sub_array[1])] for sub_array in coord]\n",
    "        \n",
    "        print(coord)\n",
    "        while True:\n",
    "            #mover 20m de distancia\n",
    "            distance = coord[cont][] \n",
    "    \n",
    "            \n",
    "    return distance, depth, fuel    \n",
    "\n",
    "if __name__ == '__main__':\n",
    "    print(run('data/submarine/route2.dat'))"
   ]
  },
  {
   "cell_type": "markdown",
   "metadata": {},
   "source": [
    "### Funciones\n",
    "\n",
    "El concepto de función es básico en prácticamente cualquier lenguaje de programación. Se\n",
    "trata de una estructura que nos permite agrupar código. Persigue dos objetivos claros:\n",
    "1. No repetir fragmentos de código en un programa.\n",
    "2. Reutilizar el código en distintos escenarios."
   ]
  },
  {
   "cell_type": "code",
   "execution_count": 63,
   "metadata": {},
   "outputs": [
    {
     "name": "stdout",
     "output_type": "stream",
     "text": [
      "25\n"
     ]
    }
   ],
   "source": [
    "# *****************\n",
    "# SUMA DE CUADRADOS\n",
    "# Escriba una función en Python que reproduzca lo siguiente:                                                          │                                                                                                                                                                                                                                          │\n",
    "#             2    2                                                                                                  │\n",
    "#  f(x, y) = x  + y\n",
    "# *****************\n",
    "\n",
    "def f(x, y):\n",
    "    return x ** 2 + y ** 2\n",
    "\n",
    "if __name__ == '__main__':\n",
    "    print()\n",
    "    f(3, 4)"
   ]
  },
  {
   "cell_type": "code",
   "execution_count": null,
   "metadata": {},
   "outputs": [
    {
     "name": "stdout",
     "output_type": "stream",
     "text": [
      "4\n",
      "3\n",
      "2\n",
      "1\n"
     ]
    },
    {
     "data": {
      "text/plain": [
       "120"
      ]
     },
     "execution_count": 1,
     "metadata": {},
     "output_type": "execute_result"
    }
   ],
   "source": [
    "# ************************************\n",
    "# CALCULANDO EL FACTORIAL DE UN NÚMERO\n",
    "# Escriba una función que calcule el factorial de un número n. El factorial de un número n se define como:            │                                                                                                                                                                                                                                          │\n",
    "#  n! = n · (n - 1) · (n - 2) · ... · 1                                                                               │                                                                                                                                                                                                                                          │\n",
    "# Notas:                                                                                                                                                                                                                                     • 0! = 1                                                                                                           │\n",
    "#  • El factorial de un número negativo no se puede calcular.\n",
    "# ************************************\n",
    "\n",
    "def factorial(n) -> int : \n",
    "    # TU CÓDIGO AQUÍ\n",
    "    if n > 0:\n",
    "        fact = 1\n",
    "        while n > 1:\n",
    "            fact *= n    \n",
    "            n -= 1    \n",
    "            print(n)\n",
    "        return fact\n",
    "    elif n == 0:\n",
    "        return 1\n",
    "    else:\n",
    "        return None\n",
    "if __name__ == '__main__':\n",
    "    print(factorial(5))\n"
   ]
  },
  {
   "cell_type": "code",
   "execution_count": 64,
   "metadata": {},
   "outputs": [
    {
     "name": "stdout",
     "output_type": "stream",
     "text": [
      "[]\n"
     ]
    }
   ],
   "source": [
    "# ************************************\n",
    "# FRECUENCIA DE ELEMENTOS CONSECUTIVOS\n",
    "# Escriba una función que reciba una lista de elementos y un parámetro \"opcional\" para el formato de salida. El       │\n",
    "# objetivo es encontrar la frecuencia de aparición de elementos consecutivos en la lista de entrada.                  │                                                                                                                     │\n",
    "# Si el parámetro de salida como cadena de texto está a False se deberá devolver una lista de tuplas, donde cada      │\n",
    "# tupla contiene el elemento y el número de repeticiones (frecuencia). Si el parámetro de salida como cadena de texto │\n",
    "# está a True se deberá devolver una cadena de texto con elemento:frecuencia separados por comas.                     │                                                                                                                     │\n",
    "# Notas:                                                                                                              │                                                                                                                     │\n",
    "#  • Se debe obligar a que el primer parámetro (lista de elementos) sea pasado como posicional.                       │\n",
    "#  • El segundo parámetro para el formato de salida como cadena de texto debe ser falso por defecto.\n",
    "# ************************************\n",
    "\n",
    "def cfreq(args: list, as_strings: bool = False):\n",
    "    cont = 1\n",
    "    freqs = []\n",
    "    # Condicionamos para que se retorne un str o list vacios.\n",
    "    if not args and as_strings:\n",
    "        return ''\n",
    "    elif not args and not as_strings:\n",
    "        return []\n",
    "    # Iteramos sobre args y comparamos el index actual con el anterior, si son iguales aumenta la frecuencia.\n",
    "    for arg in range(1, len(args)):\n",
    "        if args[arg] == args[arg - 1]:\n",
    "            cont += 1\n",
    "        # Si no, se agrega el ultimo index coincidente y su frecuencia y se restablece cont.\n",
    "        else:\n",
    "            freqs.append((args[arg - 1], cont))\n",
    "            cont = 1\n",
    "    # Al terminar de iterar se agrega el ultimo index y sus coincidencias.\n",
    "    freqs.append((args[-1], cont))\n",
    "    # Dependiendo del valor de as_strings se retorna una lista de tuplas o un str\n",
    "    if as_strings:\n",
    "        str_freqs = ''\n",
    "        for freq in freqs:\n",
    "            str_freqs += f'{str(freq[0])}:{str(freq[1])},'\n",
    "        freqs = str_freqs\n",
    "        return freqs[:-1]\n",
    "    else:\n",
    "        return freqs\n",
    "\n",
    "if __name__ == '__main__':\n",
    "    print(cfreq([], as_strings = False) )\n",
    "       "
   ]
  },
  {
   "cell_type": "code",
   "execution_count": null,
   "metadata": {},
   "outputs": [
    {
     "data": {
      "text/plain": [
       "4"
      ]
     },
     "execution_count": 5,
     "metadata": {},
     "output_type": "execute_result"
    }
   ],
   "source": [
    "# *******************\n",
    "# CONTANDO SIN CONTAR\n",
    "# Cree una función que cuente el número de veces que aparece un determinado valor en una tupla.                       │                                                                                                                     │\n",
    "# Notas:                                                                                                              │                                                                                                                     │\n",
    "#  • Se puede suponer que la tupla sólo contendrá valores numéricos enteros.                                          │\n",
    "#  • No se puede utilizar la función predefinida count()                                                              │\n",
    "#  • Utilice anotación de tipos y valores por defecto (según corresponda).                                            │\n",
    "#  • Documente la función siguiendo el formato Sphinx.\n",
    "# *******************\n",
    "\n",
    "def mcount(*items: int, target: int) -> int:\n",
    "    count = 0\n",
    "    for item in items:\n",
    "        if target == item:\n",
    "            count += 1\n",
    "    return count\n",
    "mcount(1, 2, 3, 1, 1, 5, 6, 1, target=1)"
   ]
  },
  {
   "cell_type": "code",
   "execution_count": null,
   "metadata": {},
   "outputs": [
    {
     "name": "stdout",
     "output_type": "stream",
     "text": [
      "[{'name': 'Williams', 'age': 21}, {'name': 'Lonzo', 'age': 25}, {'name': 'DeRozan', 'age': 33}, {'name': 'Beverly', 'age': 34}, {'name': 'Dragic', 'age': 36}]\n"
     ]
    }
   ],
   "source": [
    "# ********************\n",
    "# ORDENANDO POR EDADES\n",
    "# Dada una lista que representa a personas y cuyos elementos son diccionarios, se pide ordenar la lista por el campo  │\n",
    "# age de cada diccionario.                                                                                            │                                                                                                                     │\n",
    "# Notas:                                                                                                              │                                                                                                                     │\n",
    "#  • Utilice la función predefinida sorted()\n",
    "# ********************\n",
    "\n",
    "def run(people: list) -> list:\n",
    "    # TU CÓDIGO AQUÍ\n",
    "    speople = sorted(people, key=lambda s: s['age'])\n",
    "\n",
    "    return speople\n",
    "\n",
    "if __name__ == '__main__':\n",
    "    print(run([{'name': 'DeRozan', 'age': 33}, {'name': 'Lonzo', 'age': 25}, {'name': 'Beverly', 'age': 34}, \\\n",
    "        {'name': 'Dragic', 'age': 36}, {'name': 'Williams', 'age': 21}]))"
   ]
  },
  {
   "cell_type": "code",
   "execution_count": null,
   "metadata": {},
   "outputs": [
    {
     "data": {
      "text/plain": [
       "[]"
      ]
     },
     "execution_count": 3,
     "metadata": {},
     "output_type": "execute_result"
    }
   ],
   "source": [
    "# *******************\n",
    "# GENERANDO CUADRADOS\n",
    "# Escriba una función que reciba un parámetro n y que incluya una expresión generadora para calcular los n primeros   │\n",
    "# números enteros elevados al cuadrado.                                                                               │                                                                                                                     │\n",
    "# Notas:                                                                                                              │                                                                                                                     │\n",
    "#  • La función debe devolver una lista de los valores al cuadrado.                                                   │\n",
    "#  • n ∈ {0, ℤ+}\n",
    "# *******************\n",
    "\n",
    "def gen_sq(n):\n",
    "    evens_gen = (i ** 2 for i in range(0, n))\n",
    "    return evens_gen\n",
    "list(gen_sq(0))"
   ]
  },
  {
   "cell_type": "code",
   "execution_count": 14,
   "metadata": {},
   "outputs": [
    {
     "data": {
      "text/plain": [
       "7"
      ]
     },
     "execution_count": 14,
     "metadata": {},
     "output_type": "execute_result"
    }
   ],
   "source": [
    "# *******************************\n",
    "# DECORANDO CON VALORES ABSOLUTOS\n",
    "# Escriba un decorador llamado fabs() que convierta a su valor absoluto los dos primeros parámetros de la función que │\n",
    "# decora y devuelva el resultado de aplicar dicha función a sus dos argumentos. Aplique este decorador a la función   │\n",
    "# fprod() que es el punto de entrada del programa.                                                                    │                                                                                                                     │\n",
    "# ¿Podría extender el decorador para que tuviera en cuenta un número indeterminado de argumentos posicionales?\n",
    "# *******************************\n",
    "\n",
    "def fabs(func):\n",
    "    def wrapper(*args):\n",
    "        return abs(func(*args))\n",
    "    return wrapper\n",
    "\n",
    "@fabs\n",
    "def fprod(*args, **kwargs):\n",
    "    return args[0] + args[1]\n",
    "\n",
    "fprod(-2, -5, 4, 6)"
   ]
  },
  {
   "cell_type": "code",
   "execution_count": null,
   "metadata": {},
   "outputs": [
    {
     "data": {
      "text/plain": [
       "[1, 2, 4, 5, 6]"
      ]
     },
     "execution_count": 17,
     "metadata": {},
     "output_type": "execute_result"
    }
   ],
   "source": [
    "# ¿Sabría implementar un decorador para ordenar el resultado de cualquier función tomando\n",
    "# un parámetro opcional que indique si la ordenación es ascendente o descendente?\n",
    "# Solo debera permitir ordenar enteros y listas de cadenas\n",
    "\n",
    "def sorting(func):\n",
    "    def wrapper(*args, parameter=False):\n",
    "        return sorted(func(*args), reverse=parameter)\n",
    "    return wrapper\n",
    "\n",
    "@sorting\n",
    "def random_numbs(*args, parameter:bool = False):\n",
    "    return args\n",
    "\n",
    "random_numbs(2, 4, 5, 1, 6)  # Queda hacer que el parametro 'parameter' sea opcional con el uso de *args "
   ]
  },
  {
   "cell_type": "code",
   "execution_count": null,
   "metadata": {},
   "outputs": [
    {
     "data": {
      "text/plain": [
       "120"
      ]
     },
     "execution_count": 7,
     "metadata": {},
     "output_type": "execute_result"
    }
   ],
   "source": [
    "# *******************************************************\n",
    "# CALCULANDO EL FACTORIAL DE UN NÚMERO (CON RECURSIVIDAD)\n",
    "# Escriba una función recursiva que calcule el factorial de un número n. El factorial de un número n se define como:  │                                                                                                                                                                                                                                          \n",
    "#  n! = n · (n - 1) · (n - 2) · ... · 1                                                                               │                                                                                                                                                                                                                                                   \n",
    "# Notas:                                                                                                                                                                                                                                   \n",
    "#  • 0! = 1                                                                                                           │\n",
    "#  • El factorial de un número negativo no se puede calcular.\n",
    "# *******************************************************\n",
    "\n",
    "def factorial(n: int = 5) -> int:\n",
    "    if n == 0:\n",
    "        return 1\n",
    "    if n < 0:\n",
    "        return None\n",
    "    return n * factorial(n - 1)\n",
    "\n",
    "factorial()\n",
    "    "
   ]
  },
  {
   "cell_type": "code",
   "execution_count": 3,
   "metadata": {},
   "outputs": [
    {
     "data": {
      "text/plain": [
       "5"
      ]
     },
     "execution_count": 3,
     "metadata": {},
     "output_type": "execute_result"
    }
   ],
   "source": [
    "# Sucesion de fibonacci (recursivo).\n",
    "\n",
    "def fibonacci(n: int) -> int:\n",
    "    if n == 0:\n",
    "        return 0\n",
    "    if n == 1:\n",
    "        return 1\n",
    "    return fibonacci(n - 1) + fibonacci(n - 2)\n",
    "\n",
    "fibonacci(5)"
   ]
  },
  {
   "cell_type": "code",
   "execution_count": null,
   "metadata": {},
   "outputs": [
    {
     "data": {
      "text/plain": [
       "False"
      ]
     },
     "execution_count": 12,
     "metadata": {},
     "output_type": "execute_result"
    }
   ],
   "source": [
    "# *******************\n",
    "# NÚMERO EN INTERVALO\n",
    "# Escriba una función en Python que indique si un número está en un determinado intervalo.                            │                                                                                                                     │\n",
    "# Notas:                                                                                                              │                                                                                                                     │\n",
    "#  • Los límites deben tenerse en cuenta como parte del intervalo.                                                    │\n",
    "#  • El número debe ser obligatoriamente un parámetro posicional.\n",
    "# *******************\n",
    "\n",
    "def in_range(num:int, lower_limit:int, upper_limit:int) -> bool:\n",
    "    if num in range(lower_limit, upper_limit + 1):\n",
    "        return True\n",
    "    return False\n",
    "in_range(5, lower_limit=0, upper_limit=1)"
   ]
  },
  {
   "cell_type": "code",
   "execution_count": 31,
   "metadata": {},
   "outputs": [
    {
     "name": "stdout",
     "output_type": "stream",
     "text": [
      "[2, 4, 6, 8]\n"
     ]
    }
   ],
   "source": [
    "# *******************\n",
    "# EXTRACCIÓN DE PARES\n",
    "# Escriba una función en Python que reciba una lista de valores enteros y devuelva otra lista sólo con aquellos       │\n",
    "# valores pares.\n",
    "# *******************\n",
    "\n",
    "# Iterativo\n",
    "def run(int_list:list) -> list:\n",
    "    evens_list = [even for even in int_list if even % 2 == 0]\n",
    "    return evens_list\n",
    "\n",
    "# Recursivo\n",
    "def run(int_list) -> list:\n",
    "    if not int_list:\n",
    "        return []\n",
    "    if int_list[0] % 2 == 0:\n",
    "        return [int_list[0]] + run(int_list[1:])\n",
    "    return run(int_list[1:])\n",
    "print(run([1, 2, 3, 4, 5, 6, 7, 8, 9]))\n",
    "\n",
    "\n"
   ]
  },
  {
   "cell_type": "code",
   "execution_count": 68,
   "metadata": {},
   "outputs": [
    {
     "name": "stdout",
     "output_type": "stream",
     "text": [
      "(['python', 'c', 'javascript'], [])\n"
     ]
    }
   ],
   "source": [
    "# *********************************\n",
    "# SEPARANDO MAYÚSCULAS Y MINÚSCULAS\n",
    "# Dada una lista de palabras, escriba una función que devuelva dos listas, la primera con las palabras que vienen en  │\n",
    "# minúsculas y la segunda con las palabras que vienen en mayúsculas.                                                  │                                                                                                                     │\n",
    "# Notas:                                                                                                              │                                                                                                                     │\n",
    "#  • Ignore aquellas palabras que mezclan mayúsculas y minúsculas.\n",
    "# *********************************\n",
    "#Recursivo\n",
    "'''lower = []\n",
    "upper = []\n",
    "def split_case(words_list:list) -> list:\n",
    "    if not words_list:\n",
    "        return lower, upper\n",
    "    if words_list[0].isupper():\n",
    "        upper.append(words_list[0])\n",
    "    elif words_list[0].islower():\n",
    "        lower.append(words_list[0])\n",
    "    \n",
    "    return split_case(words_list[1:])\n",
    "    \n",
    "split_case(['python', 'c', 'javascript'])'''\n",
    "\n",
    "#Iterativo\n",
    "def split_case(words_list:list) -> list:\n",
    "    lower = []\n",
    "    upper = []\n",
    "    for word in words_list:\n",
    "        if word.islower():\n",
    "            lower.append(word)\n",
    "        elif word.isupper():\n",
    "            upper.append(word)\n",
    "        continue\n",
    "    return lower, upper\n",
    "\n",
    "if __name__ == '__main__':\n",
    "    print(split_case(['python', 'c', 'javascript']))\n"
   ]
  },
  {
   "cell_type": "code",
   "execution_count": 69,
   "metadata": {},
   "outputs": [
    {
     "name": "stdout",
     "output_type": "stream",
     "text": [
      "True\n"
     ]
    }
   ],
   "source": [
    "# *****************\n",
    "# NÚMEROS PERFECTOS\n",
    "# Escriba una función en Python que indique si un número es perfecto. Utilice una función auxiliar que calcule los    │\n",
    "# divisores propios.\n",
    "# *****************\n",
    "\n",
    "def is_perfect(nums: int) -> bool:\n",
    "    perfect = 0\n",
    "    for num in range(1, nums):\n",
    "        if nums % num == 0:\n",
    "            perfect += num\n",
    "    if perfect == nums:\n",
    "        return True\n",
    "    return False\n",
    "if __name__ == '__main__':\n",
    "    print(is_perfect(6))\n"
   ]
  },
  {
   "cell_type": "code",
   "execution_count": 70,
   "metadata": {},
   "outputs": [
    {
     "name": "stdout",
     "output_type": "stream",
     "text": [
      "True\n"
     ]
    }
   ],
   "source": [
    "# **********\n",
    "# PALÍNDROMO\n",
    "# Escriba una función en Python que determine si una cadena de texto es un palíndromo.\n",
    "# **********\n",
    "\n",
    "def is_palindrome(word: str) -> bool:\n",
    "    upper_word = word.lower()\n",
    "    upper_word = upper_word.replace(' ', '')\n",
    "    if upper_word == upper_word[::-1]:\n",
    "        return True\n",
    "    return False\n",
    "if __name__ == '__main__':\n",
    "    print(is_palindrome('Yo dono rosas oro no doy'))\n"
   ]
  },
  {
   "cell_type": "code",
   "execution_count": 71,
   "metadata": {},
   "outputs": [
    {
     "name": "stdout",
     "output_type": "stream",
     "text": [
      "10\n"
     ]
    }
   ],
   "source": [
    "# *******************************\n",
    "# CONTANDO VOCALES (EN RECURSIVO)\n",
    "# Diseñe una función recursiva en Python que calcule el número de vocales que tiene un texto de entrada.              │                                                                                                                     │\n",
    "# Notas:                                                                                                              │                                                                                                                     │\n",
    "#  • Se puede asumir que el texto de entrada simpre vendrá en minúsculas.                                             │\n",
    "#  • No hay que preocuparse por vocales con tilde. No aparecerán.                                                     │\n",
    "#  • No hay que preocuparse por la cadena vacía. No aparecerá.\n",
    "# *******************************\n",
    "\n",
    "def count_vowels(text: str, vowels: str = 'aeiou') -> int:\n",
    "    if len(vowels) == 0:\n",
    "        return 0\n",
    "    if vowels[0] in text:\n",
    "        return text.count(vowels[0]) + count_vowels(text, vowels[1:])\n",
    "    return count_vowels(text, vowels[1:])\n",
    "if __name__ == '__main__':\n",
    "    print(count_vowels('Bonito es mejor que feo'))"
   ]
  },
  {
   "cell_type": "code",
   "execution_count": 96,
   "metadata": {},
   "outputs": [
    {
     "name": "stdout",
     "output_type": "stream",
     "text": [
      "False\n"
     ]
    }
   ],
   "source": [
    "# ********\n",
    "# PANGRAMA\n",
    "# Escriba una función en Python que determine si una cadena de texto es un pangrama.(recursivo)\n",
    "# ********\n",
    "from string import ascii_lowercase\n",
    "alp = ascii_lowercase\n",
    "# Se crea un parametro 'alp' para almacenar el alfabeto y usarla como variable recursiva.\n",
    "def is_pangram(string: str, alp: str = '') -> bool:\n",
    "    # Si len(alp) llega a 0, es un pangrama, al haber iterado todo el alfabeto y comprobar que todas las letras estuvieron presente.\n",
    "    if len(alp) == 0:\n",
    "        return True\n",
    "    if alp[0] not in string.lower():\n",
    "         return False\n",
    "    else:\n",
    "        # Si alp[0] in string, llamamos a la funcion sin el index procesado de string alp[1:]\n",
    "        return is_pangram(string, alp[1:]) \n",
    "\n",
    "if __name__ == '__main__':\n",
    "    print(is_pangram('No soy un pangrama', alp))    # comentar todas las funiones recursivas "
   ]
  },
  {
   "cell_type": "code",
   "execution_count": 16,
   "metadata": {},
   "outputs": [
    {
     "name": "stdout",
     "output_type": "stream",
     "text": [
      "abcdefghijkl\n"
     ]
    }
   ],
   "source": [
    "# *****************\n",
    "# ALFABETO CIRCULAR\n",
    "# Escriba una función generadora (auxiliar) que devuelva los caracteres del alfabeto de forma consecutiva y con desplazamiento circular, \n",
    "# es decir, cuando se llegue al final del alfabeto que empiece por el principio.                                                                                                                                                                                                                                                                                                 │\n",
    "# La función principal debe devolver la conversión a cadena de texto de la llamada a la función generadora auxiliar.\n",
    "# *****************\n",
    "\n",
    "# Funcion generadora\n",
    "def evens(alph: str):\n",
    "    index = 0\n",
    "    while True:\n",
    "        yield alph[index]\n",
    "        index = (index + 1) % len(alph)  # Al usar while True, el generador podra ser usado infinitamente, y con el incremento 'index + 1'\n",
    "                                         # '% len(alph)' cuando index alcanza el tamaño de len(alph) el operador '%' regresara '0', y se volvera\n",
    "                                         # a recorrer el tamaño de 'alph'\n",
    "\n",
    "def run(max_letters: int) -> str:\n",
    "    from string import ascii_lowercase\n",
    "    alpha_evens = evens(ascii_lowercase)\n",
    "    text = ''\n",
    "    for _ in range(max_letters):\n",
    "        text += next(alpha_evens)\n",
    "    \n",
    "    return text\n",
    "\n",
    "if __name__ == '__main__':\n",
    "    print(run(12))"
   ]
  },
  {
   "cell_type": "code",
   "execution_count": 5,
   "metadata": {},
   "outputs": [
    {
     "data": {
      "text/plain": [
       "2"
      ]
     },
     "execution_count": 5,
     "metadata": {},
     "output_type": "execute_result"
    }
   ],
   "source": [
    "# **********************\n",
    "# ORDENANDO CON BURBUJAS\n",
    "# Ordene una lista de entrada utilizando el algoritmo de la burbuja.                                                  │                                                                                                                     │\n",
    "# Notas:                                                                                                              │                                                                                                                     │\n",
    "#  • No modifique la lista de entrada, devuelva una lista nueva.                                                      │\n",
    "#  • No utilice las funciones predefinidas sort() ni sorted().\n",
    "# **********************\n",
    "\n",
    "def bubble(num_list: list) -> list:\n",
    "    sorted_list = num_list.copy()\n",
    "    cont = 0\n",
    "    for i in range(len(sorted_list) - 1):\n",
    "        for j in range(len(sorted_list) - i):\n",
    "            if sorted_list[j] - sorted_list[j + 1]:\n",
    "                sorted_list[j]"
   ]
  },
  {
   "cell_type": "code",
   "execution_count": 21,
   "metadata": {},
   "outputs": [
    {
     "data": {
      "text/plain": [
       "30"
      ]
     },
     "execution_count": 21,
     "metadata": {},
     "output_type": "execute_result"
    }
   ],
   "source": [
    "# **************************************************\n",
    "# IDENTIFICANDO SECUENCIAS CONSECUTIVAS DE UN TAMAÑO\n",
    "# Cree una función que nos informe sobre cuál es el primer número que se repite en x ocasiones, o más, seguidas en    │\n",
    "# una lista. Debe aceptar una lista de números enteros y el número objetivo de ocasiones a encontrar.                 │                                                                                                                    │\n",
    "# Notas:                                                                                                              │                                                                                                                     │\n",
    "#  • En el caso de que exista un número que cumpla con el número de repeticiones en secuencia hay que devolver dicho  │\n",
    "#    número, en otro caso, hay que devolver False.                                                                    │\n",
    "#  • Resuelva el problema utilizando recursión.\n",
    "# **************************************************\n",
    "\n",
    "def consecutive_seq(items: list, target_count: int = 0, cont: int = 1, current_numb = None):\n",
    "    if not items:\n",
    "        return False\n",
    "    if current_numb is None:\n",
    "        current_numb = items[0]\n",
    "        cont = 1\n",
    "    elif current_numb == items[0]:\n",
    "        cont += 1\n",
    "    else:\n",
    "        current_numb = items[0]\n",
    "        cont = 1\n",
    "    if cont >= target_count:\n",
    "        return current_numb\n",
    "    else:\n",
    "        return consecutive_seq(items[1:], target_count, cont, current_numb)\n",
    "    \n",
    "consecutive_seq([1, 10, 20, 30, 30, 30, 30, 30, 40, 50], 5)"
   ]
  },
  {
   "cell_type": "code",
   "execution_count": 61,
   "metadata": {},
   "outputs": [
    {
     "data": {
      "text/plain": [
       "True"
      ]
     },
     "execution_count": 61,
     "metadata": {},
     "output_type": "execute_result"
    }
   ],
   "source": [
    "# ***************\n",
    "# CUADRADO MÁGICO\n",
    "# Un cuadrado mágico es una matriz cuadrada donde la suma de sus números por filas, columnas y diagonales es la       │\n",
    "# misma.                                                                                                              │                                                                                                                     │\n",
    "# Dada una lista de listas (matriz cuadrada) determine si es o no es un cuadrado mágico.                              │                                                                                                                     │\n",
    "# Notas:                                                                                                              │                                                                                                                    │\n",
    "#  • Se puede suponer que todas las matrices de entrada serán cuadradas.                                              │\n",
    "#  • Ayúdate de funciones auxilares.                                                                                  │\n",
    "#  • Las listas por comprensión son un poderoso aliado.                                                               │\n",
    "#  • Tenga en cuenta ser eficiente.\n",
    "# ***************\n",
    "\n",
    "# Se usan funciones auxiliares para generar las sumatoria de las filas, columnas y diagonales. Despues se almacenan los resultados y se hacen \n",
    "# sumatorias para verificar si todas son iguales. \n",
    "def is_magic_square(values: list) -> bool:\n",
    "    if not values:\n",
    "        return True\n",
    "    \n",
    "    default = sum(values[1])\n",
    "    def auxiliar_rows(val):\n",
    "        value_test = []\n",
    "        for i in val:\n",
    "            if sum(i) == default:\n",
    "                value_test.append(True) \n",
    "        if all(value_test):\n",
    "            yield default\n",
    "    def auxiliar_diag(val):\n",
    "        for i, value in enumerate(val):\n",
    "            yield value[i]\n",
    "    def auxiliar_columns(val):\n",
    "        val = list(zip(*val))\n",
    "        value_test = []\n",
    "        for i in val:\n",
    "            if sum(i) == default:\n",
    "                value_test.append(True)\n",
    "        if all(value_test):\n",
    "            yield default\n",
    "            \n",
    "    rows = auxiliar_rows(values)\n",
    "    diag = auxiliar_diag(values)\n",
    "    inv_diag = auxiliar_diag(values[::-1])\n",
    "    col = auxiliar_columns(values)\n",
    "    \n",
    "    testing = [sum(rows), sum(diag), sum(inv_diag), sum(col)]\n",
    "    if len(set(testing)) == 1:\n",
    "        return True\n",
    "    return False\n",
    "    \n",
    "is_magic_square([])    "
   ]
  },
  {
   "cell_type": "code",
   "execution_count": 46,
   "metadata": {},
   "outputs": [
    {
     "data": {
      "text/plain": [
       "0"
      ]
     },
     "execution_count": 46,
     "metadata": {},
     "output_type": "execute_result"
    }
   ],
   "source": [
    "# ***********************\n",
    "# SUMANDO CON ANIDAMIENTO\n",
    "# Dada una lista que puede contener números o listas anidadas de números, calcule la suma de todos sus valores        │\n",
    "# utilizando una función (recursiva).\n",
    "# ***********************\n",
    "\n",
    "# Se establece la variable _sum en 0\n",
    "def sum_nested(items: list):\n",
    "    _sum = 0   \n",
    "    # Se itera en cada elemento de la lista principal\n",
    "    for sub in items:\n",
    "        # Si el elemento es un int, se suma a la variable.\n",
    "        if isinstance(sub, int):\n",
    "            _sum += sub\n",
    "        # Si no, se suma el resultado de la misma funcion pero como parametro el elemento de la lista que no es int. \n",
    "        else:\n",
    "            _sum += sum_nested(sub)\n",
    "    return _sum\n",
    "            \n",
    "sum_nested([])"
   ]
  },
  {
   "cell_type": "code",
   "execution_count": 49,
   "metadata": {},
   "outputs": [
    {
     "data": {
      "text/plain": [
       "81"
      ]
     },
     "execution_count": 49,
     "metadata": {},
     "output_type": "execute_result"
    }
   ],
   "source": [
    "# ******************\n",
    "# POTENCIA RECURSIVA\n",
    "# Escriba un programa Python que calcule x^n utilizando recursividad. Como es obvio, no se puede utilizar el operador **\n",
    "# ******************\n",
    "\n",
    "def power(x: int, n: int):\n",
    "    result = 1\n",
    "    if n == 0:\n",
    "        return 1\n",
    "    else:\n",
    "        return result * x * power(x, n - 1)\n",
    "    \n",
    "power(3, 4)"
   ]
  },
  {
   "cell_type": "code",
   "execution_count": 99,
   "metadata": {},
   "outputs": [
    {
     "data": {
      "text/plain": [
       "108"
      ]
     },
     "execution_count": 99,
     "metadata": {},
     "output_type": "execute_result"
    }
   ],
   "source": [
    "# **************\n",
    "# HIPERFACTORIAL\n",
    "# El hiperfactorial de un número n se calcula como el producto sucesivo de los decrementos de n elevado a sí mismo.   │                                                                                                                     \n",
    "# Por ejemplo, el hiperfactorial de 5 se calcula como:                                                                │                                                                                                                                                                                                                                          \n",
    "#   5    4    3    2    1                                                                                             │\n",
    "#  5  + 4  + 3  + 2  + 1  = 86400000                                                                                  │                                                                                                                                                                                                                                          \n",
    "# Se pide escribir una función que calcule el hiperfactorial de un número n.                                          │                                                                                                                     \n",
    "# Notas:                                                                                                              │                                                                                                                     \n",
    "#  • n >= 1                                                                                                           │\n",
    "#  • Puede plantear la versión iterativa y la versión recursiva.\n",
    "# **************\n",
    "\n",
    "#Recursivo\n",
    "'''def hyperfactorial(n: int ,hyper: int = 1):\n",
    "    if n == 1:\n",
    "        return 1\n",
    "    else:\n",
    "        return hyper * n ** n * hyperfactorial(n - 1)\n",
    "hyperfactorial(3)'''\n",
    "\n",
    "# Iterativo.\n",
    "def hyperfactorial(n: int):\n",
    "    hyper = 1\n",
    "    for i in range(1, n + 1):\n",
    "        hyper = hyper * i ** i\n",
    "    return hyper\n",
    "hyperfactorial(3)"
   ]
  },
  {
   "cell_type": "markdown",
   "metadata": {},
   "source": [
    "### Objetos y Clases\n",
    "#### Programacion orientada a objetos\n",
    "La programación orientada a objetos (POO) o en sus siglas inglesas OOP es una manera de\n",
    "programar (paradigma) que permite llevar al código mecanismos usados con entidades de la\n",
    "vida real.\n",
    "-Beneficios:\n",
    "Encapsulamiento Permite empaquetar el código dentro de una unidad (objeto) donde\n",
    "se puede determinar el ámbito de actuación.\n",
    "Abstracción Permite generalizar los tipos de objetos a través de las clases y simplificar\n",
    "el programa.\n",
    "Herencia Permite reutilizar código al poder heredar atributos y comportamientos de una\n",
    "clase a otra.\n",
    "Polimorfismo Permite crear múltiples objetos a partir de una misma pieza flexible de\n",
    "código."
   ]
  },
  {
   "cell_type": "code",
   "execution_count": 20,
   "metadata": {},
   "outputs": [
    {
     "name": "stdout",
     "output_type": "stream",
     "text": [
      "False\n",
      "True\n",
      "Whatsapp ya esta instalada en este dispositivo\n",
      "Didi ya esta instalada en este dispositivo\n",
      "None\n",
      "['Didi', 'Maps']\n"
     ]
    }
   ],
   "source": [
    "# Escriba una clase MobilePhone que represente un teléfono móvil.\n",
    "# Atributos:\n",
    "# • manufacturer (cadena de texto)\n",
    "# • screen_size (flotante)\n",
    "# • num_cores (entero)\n",
    "# • apps (lista de cadenas de texto)\n",
    "# • status (False: apagado, True: encendido)\n",
    "## Métodos:\n",
    "# • __init__(self, manufacturer, screen_size, num_cores)\n",
    "# • power_on(self)\n",
    "# • power_off(self)\n",
    "# • install_app(self, app) (no instalar la app si ya existe)\n",
    "# • uninstall_app(self, app) (no borrar la app si no existe)\n",
    "#¿Serías capaz de extender el método install_app() para instalar varias aplicaciones a la vez?\n",
    "\n",
    "class MobilePhone:\n",
    "    \n",
    "    def __init__(self, manufacturer: str, screen_size: float, num_cores: int):\n",
    "        self.manufacturer = manufacturer\n",
    "        self.screen_size = screen_size\n",
    "        self.num_cores = num_cores\n",
    "        self.apps: list = []\n",
    "        self.status: bool = False\n",
    "        \n",
    "    def power_on(self):\n",
    "        self.status = True\n",
    "        return self.status  \n",
    "    def power_off(self):\n",
    "        self.status = False\n",
    "        return self.status\n",
    "    def install_app(self, *app):\n",
    "        for i in app:\n",
    "            if i in self.apps:\n",
    "                print(f'{i} ya esta instalada en este dispositivo')\n",
    "            else:\n",
    "                self.apps.append(i)\n",
    "    def uninstall_app(self, app):\n",
    "        if app in self.apps:\n",
    "            self.apps.remove(app)\n",
    "        else:\n",
    "            return f'{app} no esta instalada en este dispositivo'\n",
    "            \n",
    "obj1 = MobilePhone('Samsung', 5.7, 8)\n",
    "print(obj1.status)\n",
    "obj1.power_on()\n",
    "print(obj1.status)\n",
    "obj1.install_app('Whatsapp', 'Didi')\n",
    "obj1.install_app('Whatsapp', 'Didi', 'Maps')\n",
    "print(obj1.uninstall_app('Whatsapp'))\n",
    "print(obj1.apps)"
   ]
  },
  {
   "cell_type": "code",
   "execution_count": 5,
   "metadata": {},
   "outputs": [
    {
     "name": "stdout",
     "output_type": "stream",
     "text": [
      "Calculating periscope height...\n",
      "0.315\n",
      "0.315\n"
     ]
    }
   ],
   "source": [
    "# VALORES CALCULADOS Y CACHEADOS. (Con propiedades, son mas rapidas en ejecucion que un metodo y no reciben parametros)\n",
    "# Usar propiedades para calcular valores usando atributos es una gran idea debido a sus rapida ejecucion, ademas se pueden cachear\n",
    "# para no tener que calcular mas de una vez si se usan los mismos atributos (Cuando no se accede al metodo setter para modificar el atributo.)\n",
    "\n",
    "class Test:\n",
    "    \n",
    "    def __init__(self, height: float):   # Al usar un setter, tal y como se inicializan los atributos en __init__, tambien se inicializa el setter\n",
    "        self.height = height\n",
    "        \n",
    "    @property\n",
    "    def height(self) -> float: \n",
    "        return self._height\n",
    "    \n",
    "    @height.setter\n",
    "    def height(self, height: float) -> None:\n",
    "        self._height = height\n",
    "        self._periscope_height = None\n",
    "        \n",
    "    @property    \n",
    "    def periscope_height(self) -> float:\n",
    "        if self._periscope_height is None:\n",
    "            print('Calculating periscope height...')\n",
    "            self._periscope_height = 0.3 * self.height\n",
    "        return self._periscope_height\n",
    "    \n",
    "\n",
    "obj1 = Test(1.05)\n",
    "print(obj1.periscope_height)\n",
    "print(obj1.periscope_height)\n",
    "print()"
   ]
  },
  {
   "cell_type": "code",
   "execution_count": 7,
   "metadata": {},
   "outputs": [
    {
     "data": {
      "text/plain": [
       "('Messeger', 'Astromech', 'Power', 'Protocol')"
      ]
     },
     "execution_count": 7,
     "metadata": {},
     "output_type": "execute_result"
    }
   ],
   "source": [
    "# METODOS ESTATICOS\n",
    "# Estos no deberian modificar el estado del objeto ni de clase. No recibe ningun parametro especial, su identificacion se completa con el uso\n",
    "# del decorador @staticmethod. \n",
    "# Sirven para retornar informacion que no requiera el acceso a la instancia o la clase en si mismas. \n",
    "\n",
    "class Droid:\n",
    "    def __init__(self):\n",
    "        pass\n",
    "    @staticmethod\n",
    "    def get_droids_categories() -> tuple[str]:\n",
    "        return ('Messeger', 'Astromech', 'Power', 'Protocol')\n",
    "    \n",
    "Droid.get_droids_categories()"
   ]
  },
  {
   "cell_type": "code",
   "execution_count": 8,
   "metadata": {},
   "outputs": [
    {
     "name": "stdout",
     "output_type": "stream",
     "text": [
      "R2D2 is using Deluxe tires\n"
     ]
    }
   ],
   "source": [
    "# METODOS DE INSTANCIA\n",
    "# Es un metodo que accede o modifica el estado del objeto al que hace referencia.\n",
    "# Recibe 'self' como parametro que se convierte en el propio objeto sobre el que estamos trabajando. \n",
    "# Se suele usar para trabajar con atributos de diferentes instancias.\n",
    "# Haremos un metodo de instancia que cambie las ruedas de un dron.\n",
    "\n",
    "class Droid:\n",
    "    def __init__(self, droid_model: str = 'R2D2', tire_model: str = 'Off_Road'): # Metodo de instancia -> constructor\n",
    "        self._droid_model = droid_model\n",
    "        self._tire_model = tire_model\n",
    "    \n",
    "    def tire_change(self, tire: str) -> None:\n",
    "        self._tire_model = tire\n",
    "        print(f'{self._droid_model} is using {self._tire_model} tires')\n",
    "obj1 = Droid()\n",
    "obj1.tire_change(tire='Deluxe')"
   ]
  },
  {
   "cell_type": "code",
   "execution_count": 23,
   "metadata": {},
   "outputs": [
    {
     "name": "stdout",
     "output_type": "stream",
     "text": [
      "Droid R2D2 running move\n",
      "None\n",
      "[1, 1]\n"
     ]
    }
   ],
   "source": [
    "# METODOS DECORADOS\n",
    "# Es posible que, según el escenario, queramos decorar ciertos métodos de nuestra clase.\n",
    "# Esto lo conseguiremos siguiendo la misma estructura de decoradores que ya hemos visto, pero con ciertos matices\n",
    "\n",
    "# Al llamar a cualquier funcion decorada, relamente se ejecuta primero el decorador y dentro de wrapper se ejecuta la funcion decorada y \n",
    "# lo que se tenga que hacer a lo que esta retorne.\n",
    "\n",
    "class Droid:\n",
    "    @staticmethod\n",
    "    def audit(method):\n",
    "        def wrapper(self, *args, **kwargs):\n",
    "            print(f'Droid {self.name} running {method.__name__}')\n",
    "            return method(self, *args, **kwargs) # Ojo llamada!\n",
    "        return wrapper\n",
    "    \n",
    "    def __init__(self, name: str):\n",
    "        self.name = name\n",
    "        self.pos = [0, 0]\n",
    "     \n",
    "    @audit   \n",
    "    def move(self, x: int, y: int):\n",
    "        self.pos[0] = x\n",
    "        self.pos[1] = y\n",
    "    \n",
    "    @audit    \n",
    "    def reset(self):\n",
    "        self.pos = [0, 0]\n",
    "        \n",
    "droid1 = Droid('R2D2')\n",
    "print(droid1.move(1, 1))\n",
    "print(droid1.pos)\n",
    "\n",
    "# El decorador se puede poner dentro o fuera de la clase. Por una cuestión de encapsulamiento\n",
    "#podría tener sentido dejarlo dentro de la clase como método estático."
   ]
  },
  {
   "cell_type": "code",
   "execution_count": 3,
   "metadata": {},
   "outputs": [
    {
     "data": {
      "text/plain": [
       "True"
      ]
     },
     "execution_count": 3,
     "metadata": {},
     "output_type": "execute_result"
    }
   ],
   "source": [
    "# DUNDER METHODS\n",
    "# En aquellos que implican comparaciones u operaciones matematicas con mas de una instancia, necesitaran portar el parametro 'self' y 'other'.\n",
    "# 'other' permite hacer uso de una segunda intancia y asi comparar u operar los atributos de dicha instancia 'other' y la actual,\n",
    "# 'self'. Ademas deben retornar un objeto 'class' con los atributos ahora computados. return 'class'(self.atribute, other.atribute)\n",
    "# Para aquellos que implican imprimir informacion (__str__), basta con retornar los atributos o metodos a visualizar y usar print() sobre\n",
    "# el objeto en cuestion print(obj1).\n",
    "\n",
    "# __eq__\n",
    "class Droid:\n",
    "    def __init__(self, name: str, serial_number: int):\n",
    "        self. name = name\n",
    "        self.serial_number = serial_number\n",
    "        \n",
    "    def __eq__(self, value: object) -> bool:\n",
    "        return self.name == value.name\n",
    "    \n",
    "droid01 = Droid('Pepe', 2340862)\n",
    "droid02 = Droid('Pepe', 244983334)\n",
    "droid03 = droid01 == droid02\n",
    "droid03\n",
    "        \n",
    "\n"
   ]
  },
  {
   "cell_type": "code",
   "execution_count": 6,
   "metadata": {},
   "outputs": [
    {
     "name": "stdout",
     "output_type": "stream",
     "text": [
      "Droid name: Coral-Alex, Droid power: 1502\n"
     ]
    }
   ],
   "source": [
    "# __add__\n",
    "class Droid:\n",
    "    def __init__(self, name: str, power: float):\n",
    "        self.name = name\n",
    "        self.power = power\n",
    "        \n",
    "    def __add__(self, other: object) -> Droid:\n",
    "        fusion_name = f'{self.name}-{other.name}'\n",
    "        fusion_power = self.power + other.power\n",
    "        return Droid(fusion_name, fusion_power)\n",
    "droid1 = Droid('Coral', 2)\n",
    "droid2 = Droid('Alex', 1500)\n",
    "droid3 = droid1 + droid2\n",
    "print(f'Droid name: {droid3.name}, Droid power: {droid3.power}')"
   ]
  },
  {
   "cell_type": "code",
   "execution_count": 10,
   "metadata": {},
   "outputs": [
    {
     "data": {
      "text/plain": [
       "<__main__.Droid at 0x2976c48b6d0>"
      ]
     },
     "execution_count": 10,
     "metadata": {},
     "output_type": "execute_result"
    }
   ],
   "source": [
    "# __str__\n",
    "class Droid:\n",
    "    def __init__(self, name: str, serial_number: int):\n",
    "        self.name = name\n",
    "        self.serial_number = serial_number\n",
    "        \n",
    "    def __str__(self) -> str:\n",
    "        return f'Droid name: {self.name}.\\nDroid serial number: {self.serial_number}'\n",
    "droid1 = Droid('Areni', 270352543)\n",
    "#print(droid1)\n",
    "droid1"
   ]
  },
  {
   "cell_type": "code",
   "execution_count": 59,
   "metadata": {},
   "outputs": [
    {
     "name": "stdout",
     "output_type": "stream",
     "text": [
      "15/16\n"
     ]
    }
   ],
   "source": [
    "# Ejercicio\n",
    "# Defina una clase Fraction que represente una fracción con numerador y denominador enteros\n",
    "# y utilice los métodos mágicos para poder sumar, restar, multiplicar y dividir estas fracciones.\n",
    "# Además de esto, necesitaremos:\n",
    "# • gcd(a, b) como método estático siguiendo el algoritmo de Euclides para calcular el\n",
    "# máximo común divisor entre a y b.\n",
    "# • __init__(self, num, den) para construir una fracción (incluyendo simplificación de\n",
    "# sus términos mediante el método gcd().\n",
    "# • __str__(self) para representar una fracción.\n",
    "\n",
    "class Fraction:\n",
    "    def __init__(self, num: int, den: int):\n",
    "        self._num = num\n",
    "        self._den = den\n",
    "        if den > 0:\n",
    "            self.den = den // Fraction.gcd(num, den)\n",
    "            self.num = num // Fraction.gcd(num, den)\n",
    "        else:\n",
    "            self.den = 0\n",
    "            self.num = 0\n",
    "    \n",
    "    @staticmethod    \n",
    "    def gcd(a: int, b: int) -> int:\n",
    "        \"\"\" Algoritmo de Euclides para el cálculo del Máximo Común Divisor. \"\"\"\n",
    "        while b > 0:\n",
    "            a, b = b, a % b\n",
    "        return a\n",
    "    \n",
    "    def __str__(self):\n",
    "        return f'{self.num}/{self.den}'\n",
    "    \n",
    "    def __add__(self, other: object):\n",
    "        numerator = (self.num * other.den) + (self.den * other.num) \n",
    "        denominator = (self.den) * (other.den)\n",
    "        return Fraction(numerator, denominator)\n",
    "    \n",
    "    def __sub__(self, other: object):\n",
    "        numerator = (self.num * other.den) - (self.den * other.num) \n",
    "        denominator = (self.den) * (other.den)\n",
    "        return Fraction(numerator, denominator)\n",
    "    \n",
    "    def __mul__(self, other: object):\n",
    "        numerator = (self.num * other.num) \n",
    "        denominator = (self.den) * (other.den)\n",
    "        return Fraction(numerator, denominator)\n",
    "    \n",
    "    def __floordiv__(self, other: object):\n",
    "        numerator = (self.num * other.den) \n",
    "        denominator = (self.den * other.num)\n",
    "        return Fraction(numerator, denominator)\n",
    "    \n",
    "frac1 = Fraction(25, 30)\n",
    "frac2 = Fraction(40, 45)\n",
    "frac3 = frac1 // frac2\n",
    "print(frac3)"
   ]
  },
  {
   "cell_type": "code",
   "execution_count": 17,
   "metadata": {},
   "outputs": [
    {
     "data": {
      "text/plain": [
       "'pepe'"
      ]
     },
     "execution_count": 17,
     "metadata": {},
     "output_type": "execute_result"
    }
   ],
   "source": [
    "class Droid:\n",
    "    def __init__(self, name: str = 'pepe'):\n",
    "        self.name = name\n",
    "class ProtocolDroid(Droid):\n",
    "    def __init__(self, name: str, languages: list[str]):\n",
    "        super().__init__(name) # llamada al constructor de la clase base\n",
    "        self.languages = languages\n",
    "\n",
    "droid = ProtocolDroid('C-3PO', ['Ewokese', 'Huttese', 'Jawaese'])\n",
    "droid.name\n",
    "droid2 = Droid()\n",
    "droid2.name\n"
   ]
  },
  {
   "cell_type": "code",
   "execution_count": 25,
   "metadata": {},
   "outputs": [
    {
     "data": {
      "image/png": "[encoded data removed]",
      "text/plain": [
       "<PIL.PngImagePlugin.PngImageFile image mode=RGBA size=871x676>"
      ]
     },
     "metadata": {},
     "output_type": "display_data"
    }
   ],
   "source": [
    "# Cree el siguiente escenario de herencia de clases en Python que representa distintos tipos de ficheros en un sistema:\n",
    "from PIL import Image\n",
    "from IPython.display import display\n",
    "imagen = Image.open('C:/Users/senriquez/Pictures/Capturas SAP/fich_class.png')\n",
    "display(imagen)\n"
   ]
  },
  {
   "cell_type": "code",
   "execution_count": 29,
   "metadata": {},
   "outputs": [
    {
     "name": "stdout",
     "output_type": "stream",
     "text": [
      "Path: /home/python/vanrossum.mp4 [size = 122]\n",
      "Codec: h264\n",
      "Geoloc: (23.5454, 31.4343)\n",
      "Duration: 487s\n",
      "Dimensions: (1920, 1080)\n"
     ]
    }
   ],
   "source": [
    "class File:\n",
    "    def __init__(self, path: str):\n",
    "        self.path = path\n",
    "        self.content = []\n",
    "        \n",
    "    def add_content(self):\n",
    "        self.content = self.info\n",
    "        return self.content\n",
    "    \n",
    "    @property\n",
    "    def size(self):\n",
    "        return len(self.content)\n",
    "    \n",
    "    @property\n",
    "    def info(self) -> str:\n",
    "        return f'Path: {self.path} [size = {self.size}]'\n",
    "    \n",
    "class MediaFile(File):\n",
    "    def __init__(self, path: str, codec: str, geoloc: tuple, duration: int):\n",
    "        super().__init__(path)\n",
    "        self.codec = codec\n",
    "        self.geoloc = geoloc\n",
    "        self.duration = duration\n",
    "        \n",
    "    @property\n",
    "    def info(self) -> str:\n",
    "        return f'{super().info}\\nCodec: {self.codec}\\nGeoloc: {self.geoloc}\\nDuration: {self.duration}s'\n",
    "        \n",
    "class VideoFile(MediaFile):\n",
    "    def __init__(self, path: str, codec: str, geoloc: tuple, duration: int, dimensions: tuple):\n",
    "        super().__init__(path, codec, geoloc, duration)\n",
    "        self.dimensions = dimensions\n",
    "        \n",
    "    @property\n",
    "    def info(self) -> str:\n",
    "        return f'{super().info}\\nDimensions: {self.dimensions}'\n",
    "\n",
    "obj1 = VideoFile('/home/python/vanrossum.mp4', 'h264', (23.5454, 31.4343), 487, (1920, 1080))\n",
    "obj1.add_content()\n",
    "print(obj1.info)"
   ]
  },
  {
   "cell_type": "code",
   "execution_count": 12,
   "metadata": {},
   "outputs": [
    {
     "name": "stdout",
     "output_type": "stream",
     "text": [
      "10,  1, 2, 3, None, None, 10\n"
     ]
    }
   ],
   "source": [
    "# Ejercicio SECUENCIAS\n",
    "# Cree una clase InfiniteList que permita utilizar una lista sin tener límites, es decir,\n",
    "# evitando un IndexError. Por ejemplo, si la lista tiene 10 elementos, y asignamos un valor al\n",
    "# elemento en el índice 20, esto no daría un error, sino que haría ampliar la lista hasta el valor\n",
    "# 20, rellenando los valores en blanco con un valor de relleno que por defecto es None.\n",
    "# La clase se debe implementar como una secuencia. Escriba también un método __str__()\n",
    "# que devuelva la representación de la lista en formato cadena de texto. Por ejemplo para [5, 3, 8] habría que devolver 5,3,8.\n",
    "\n",
    "class InfiniteList:\n",
    "    \n",
    "    def __init__(self, array: list, num: int):  \n",
    "        self.array = array\n",
    "        self.num = num\n",
    "        \n",
    "    def __setitem__(self, index: int) -> list:\n",
    "        self.array += [None for _ in range(index - (len(self.array)))]  \n",
    "        self.array.append(self.num)\n",
    "            \n",
    "    def __getitem__(self, index: int) -> list:\n",
    "        if index > (len(self.array)):\n",
    "            self.__setitem__(index)\n",
    "        return self.array[index]\n",
    "    \n",
    "    def __str__(self):\n",
    "        return ', '.join([str(num) for num in self.array])\n",
    "        \n",
    "obj1 = InfiniteList([1, 2, 3], 10)\n",
    "print(f'{obj1[5]},  {obj1}')"
   ]
  },
  {
   "cell_type": "code",
   "execution_count": 5,
   "metadata": {},
   "outputs": [
    {
     "name": "stdout",
     "output_type": "stream",
     "text": [
      "Droid: SN=00000\n",
      "Droid: SN=11111\n",
      "Droid: SN=22222\n",
      "Droid: SN=33333\n",
      "Droid: SN=44444\n",
      "Droid: SN=55555\n",
      "Droid: SN=66666\n",
      "Droid: SN=77777\n",
      "Droid: SN=88888\n",
      "Droid: SN=99999\n"
     ]
    }
   ],
   "source": [
    "# Iterables\n",
    "# Para ser un objeto iterable sólo es necesario implementar el método mágico __iter__().\n",
    "# Este método debe proporcionar una referencia al objeto iterador que es quien se encargará\n",
    "# de desarrollar el protocolo de iteración a través del método mágico __next__().\n",
    "\n",
    "class Droid:\n",
    "    def __init__(self, serial: str):\n",
    "        self.serial = serial * 5\n",
    "        \n",
    "    def __str__(self) -> str:\n",
    "        return f'Droid: SN={self.serial}'\n",
    "    \n",
    "class Geonosis:\n",
    "    def __init__(self, num_droids: int):\n",
    "        self.num_droids = num_droids\n",
    "        self.pointer = 0\n",
    "        \n",
    "    def __iter__(self) -> object:\n",
    "        # El iterador es el propio objeto \n",
    "        return self\n",
    "    \n",
    "    def __next__(self) -> Droid:\n",
    "        # Protocolo de iteracion\n",
    "        if self.pointer >= self.num_droids:\n",
    "            raise StopIteration\n",
    "        droid = Droid(str(self.pointer))\n",
    "        self.pointer += 1\n",
    "        return droid\n",
    "    \n",
    "for droid in Geonosis(10):\n",
    "    print(droid)"
   ]
  },
  {
   "cell_type": "code",
   "execution_count": 10,
   "metadata": {},
   "outputs": [
    {
     "name": "stdout",
     "output_type": "stream",
     "text": [
      "[1]\n",
      "[1, 1]\n",
      "[1, 1, 2]\n",
      "[1, 1, 2, 3]\n",
      "[<__main__.PrintNextFibonacci object at 0x0000024516409150>, <__main__.PrintNextFibonacci object at 0x0000024516409050>, <__main__.PrintNextFibonacci object at 0x000002451640B750>, <__main__.PrintNextFibonacci object at 0x0000024516408410>]\n"
     ]
    }
   ],
   "source": [
    "# ******************\n",
    "# FIBONACCI ITERABLE\n",
    "# Escriba una clase Fibonacci que sea iterable y que devuelva cada vez el siguiente valor de la sucesión de           │\n",
    "# Fibonacci.                                                                                                          │                                                                                                                     \n",
    "# Notas:                                                                                                              │                                                                                                                     \n",
    "#  • La clase se debe construir pasando el número n de valores a generar.                                             │\n",
    "#  • La función principal debe hacer uso de la clase Fibonacci convirtiendo a lista los valores generados.            │\n",
    "#  • No construir previamente los valores: irlos generando a medida que se van necesitando.\n",
    "# ******************\n",
    "\n",
    "class PrintNextFibonacci:\n",
    "    def __init__(self, fib):\n",
    "        self.fib = fib\n",
    "        \n",
    "    def __str__(self) -> list:\n",
    "        return str(self.fib)\n",
    "\n",
    "class Fibonacci:\n",
    "    def __init__(self, n: int):\n",
    "        self.n = n\n",
    "        self.a, self.b = 0, 1\n",
    "        self.pointer = 0\n",
    "        self.a_list = []\n",
    "        \n",
    "    def __iter__(self) -> object:\n",
    "        return self\n",
    "    \n",
    "    def __next__(self) -> PrintNextFibonacci:\n",
    "        if self.pointer >= self.n:\n",
    "            raise StopIteration\n",
    "        self.a, self.b = self.b, self.a + self.b   #f(4) = f(3) + f(2)\n",
    "        self.pointer += 1\n",
    "        self.a_list.append(self.a)\n",
    "        return PrintNextFibonacci(self.a_list)\n",
    "    \n",
    "for i in Fibonacci(4):\n",
    "   print(i)\n"
   ]
  },
  {
   "cell_type": "code",
   "execution_count": 5,
   "metadata": {},
   "outputs": [],
   "source": [
    "# ****************************** ESTRUCTURA DE UNA CLASE **********************************\n",
    "\n",
    "class OrganizedClass:\n",
    "    \"\"\"Descripción de la clase\"\"\"\n",
    "\n",
    "    # Constructor\n",
    "    \n",
    "    # Decoradores -- Damos funcionalidad adicional a un metodo\n",
    "    \n",
    "    # Métodos de instancia -- Un método de instancia es un método que modifica o accede al estado del objeto al que hace referencia.\n",
    "\n",
    "    # Propiedades -- En este conytexto sirven para acceder o modificar atributos de una clase explicitamente, tambien sirven para valores\n",
    "        # calculados\n",
    "\n",
    "    # Métodos mágicos -- Sirven para llamar una funcionalidad implicitamente, estos incluyen comparadores de instancias (__equal__) o bien \n",
    "        # iterables (__iter__(), __next__()) y secuencias (__getitem__(), __setitem__())\n",
    "    \n",
    "    # Métodos de clase -- Son aquellos que no modifican o acceden al estado de un objeto, pero si al de una clase.\n",
    "\n",
    "    # Métodos estáticos -- Son aquellos que no reciben ningun parametro especial, suelen usarse para valores calculados.\n",
    "    "
   ]
  },
  {
   "cell_type": "code",
   "execution_count": 11,
   "metadata": {},
   "outputs": [
    {
     "name": "stdout",
     "output_type": "stream",
     "text": [
      "JUEVES 11 DE JULIO DE 1974\n",
      "15/04/1983 \n",
      " VIERNES 15 DE ABRIL DE 1983 \n",
      " DOMINGO\n"
     ]
    }
   ],
   "source": [
    "# 1. Escriba una clase Date que represente una fecha.\n",
    "from __future__ import annotations\n",
    "from datetime import datetime\n",
    "\n",
    "\n",
    "class Date:\n",
    "    def __init__(self, day: int, month: int, year: int):\n",
    "        \"\"\"Validar día, mes y año. Se comprobará si la fecha es correcta\n",
    "        (entre el 1-1-1900 y el 31-12-2050); si el día no es correcto, lo pondrá a 1;\n",
    "        si el mes no es correcto, lo pondrá a 1; y si el año no es correcto, lo pondrá a 1900.\n",
    "        Ojo con los años bisiestos.\n",
    "        El 1-1-1900 fue lunes.\n",
    "        \"\"\"\n",
    "        self.day = day\n",
    "        self.month = month\n",
    "        self.year = year\n",
    "        self.check_date()\n",
    "         \n",
    "    @property\n",
    "    def day(self) -> int:\n",
    "        return self._day\n",
    "    @day.setter\n",
    "    def day(self, new_value):\n",
    "        self._day = new_value \n",
    "    \n",
    "    @property\n",
    "    def month(self) -> int:\n",
    "        return self._month\n",
    "    @month.setter\n",
    "    def month(self, new_value):\n",
    "        self._month = new_value \n",
    "    \n",
    "    @property\n",
    "    def year(self) -> int:\n",
    "        return self._year\n",
    "    @year.setter\n",
    "    def year(self, new_value):\n",
    "        self._year = new_value \n",
    "\n",
    "    def check_date(self):\n",
    "        if self.day not in range(Date.get_days_in_month(self.month, self.year) + 1):\n",
    "            self.day = 1\n",
    "        if not self.month in range(1, 13):\n",
    "            print(self.month)\n",
    "            self.month = 1\n",
    "        if not self.year in range(1900, 2051):\n",
    "            self.year = 1900\n",
    "\n",
    "    @staticmethod\n",
    "    def is_leap_year(year: int) -> bool:\n",
    "        \"\"\"Indica si un año es bisiesto\"\"\"\n",
    "        leap_year = True if year % 4 == 0 and year % 100 != 0 or year % 400 == 0 else False \n",
    "        return leap_year\n",
    "\n",
    "    @staticmethod\n",
    "    def get_days_in_month(month: int, year: int) -> int:\n",
    "        \"\"\"Número de días en un determinado mes de un determinado año\"\"\"\n",
    "        if month == 2:\n",
    "            return 29 if Date.is_leap_year(year) else 28\n",
    "        elif month in [4, 6, 9, 11]:\n",
    "            return 30\n",
    "        else:\n",
    "            return 31\n",
    "\n",
    "    def get_delta_days(self) -> int:\n",
    "        \"\"\"Número de días transcurridos desde el 1-1-1900 hasta la fecha\"\"\"\n",
    "        cont = 0\n",
    "        for no_year in range(1900, self.year):\n",
    "            if Date.is_leap_year(no_year):\n",
    "                cont += 366\n",
    "            else:\n",
    "                cont += 365\n",
    "        for no_month in range(1, self.month):\n",
    "            if no_month in [1, 3, 5, 7, 8, 10, 12]:\n",
    "                cont += 31\n",
    "            elif no_month in [4, 6, 9, 11]:\n",
    "                cont += 30\n",
    "            elif no_month == 2 and Date.is_leap_year(no_year):\n",
    "                cont += 29\n",
    "            elif no_month == 2 and not Date.is_leap_year(no_year):\n",
    "                cont += 28\n",
    "        cont += self.day - 1\n",
    "        return cont\n",
    "    \n",
    "    @property\n",
    "    def weekday(self) -> int:\n",
    "        \"\"\"Día de la semana de la fecha (0 para domingo, ..., 6 para sábado).\"\"\"\n",
    "        self.date = datetime(self.year, self.month, self.day)\n",
    "        self.week_days = {0: 'Domingo', 1: 'Lunes', 2: 'Martes', 3: 'Miercoles', 4: 'Jueves', 5: 'Viernes', 6: 'Sabado'}\n",
    "        return self.week_days[(self.date.weekday() + 1) % 7].upper()\n",
    "\n",
    "    @property\n",
    "    def is_weekend(self) -> bool:\n",
    "        \"\"\"Indica si la fecha del objeto actual cae en fin de semana\"\"\"\n",
    "        return True if self.weekday == 0 or self.weekday == 6 else False\n",
    "\n",
    "    @property\n",
    "    def short_date(self) -> str:\n",
    "        \"\"\"02/09/2003\"\"\"\n",
    "        day = f'0{self.day}' if len(str(self.day)) < 2 else self.day\n",
    "        month = f'0{self.month}' if len(str(self.month)) < 2 else self.month\n",
    "        return f'{day}/{month}/{self.year}'\n",
    "\n",
    "    def __str__(self):\n",
    "        \"\"\"Formato: MARTES 2 DE SEPTIEMBRE DE 2003\"\"\"\n",
    "        months = {1: 'ENERO', 2: 'FEBRERO', 3: 'MARZO', 4: 'ABRIL', 5: 'MAYO', 6: 'JUNIO', 7: 'JULIO', 8: 'AGOSTO', 9: 'SEPTIEMBRE',\\\n",
    "            10: 'OCTUBRE', 11: 'NOVIEMBRE', 12: 'DICIEMBRE'}\n",
    "        return f'{self.weekday.upper()} {self.day} DE {months[self.month]} DE {self.year}'\n",
    "\n",
    "    def __add__(self, days: int) -> Date:\n",
    "        \"\"\"Sumar un número de días a la fecha\"\"\"\n",
    "        days += self.day\n",
    "        month = self.month\n",
    "        year = self.year\n",
    "        while True:\n",
    "            dias_mes_actual = Date.get_days_in_month(month, year)\n",
    "            if days <= dias_mes_actual:\n",
    "                break\n",
    "            days -= dias_mes_actual\n",
    "            month += 1\n",
    "            if month == 12:\n",
    "                month = 0\n",
    "                year += 1\n",
    "        return Date(days, month, year)\n",
    "\n",
    "    def __sub__(self, other: Date | int) -> int | Date:\n",
    "        \"\"\"Dos opciones:\n",
    "        1) Restar una fecha a otra fecha -> Número de días\n",
    "        2) Restar un número de días la fecha -> Nueva fecha\"\"\"\n",
    "        if isinstance(other, Date):\n",
    "            if other < self:\n",
    "                from_begin_to_other_days = other.get_delta_days()\n",
    "                from_begin_to_self_days = self.get_delta_days()\n",
    "                return from_begin_to_self_days - from_begin_to_other_days\n",
    "            else:\n",
    "                None\n",
    "        #\"\"\"2) Restar un número de días la fecha -> Nueva fecha\"\"\"\n",
    "        elif isinstance(other, int):\n",
    "            days = other - self.day\n",
    "            month = self.month\n",
    "            year = self.year\n",
    "            while True:\n",
    "                dias_mes_pasado = Date.get_days_in_month(month - 1, year)\n",
    "                if days < 0:\n",
    "                    days *=-1\n",
    "                    break\n",
    "                if month == 1:\n",
    "                    month = 13\n",
    "                    year -= 1\n",
    "                days -= dias_mes_pasado\n",
    "                month -= 1\n",
    "            return Date(days, month, year)\n",
    "        else:\n",
    "            None\n",
    "\n",
    "    def __lt__(self, other) -> bool:\n",
    "        \"\"\"Indica si la fecha del objeto actual es menor que la fecha de other\"\"\"\n",
    "        return True if self.get_delta_days() < other.get_delta_days() else False\n",
    "        \n",
    "    def __gt__(self, other) -> bool:\n",
    "        \"\"\"Indica si la fecha del objeto actual es mayor que la fecha de other\"\"\"\n",
    "        return True if other.get_delta_days() < self.get_delta_days() else False\n",
    "\n",
    "    def __eq__(self, other) -> bool:\n",
    "        \"\"\"Indica si la fecha del objeto actual es igual que la fecha de other\"\"\"\n",
    "        return True if self.get_delta_days() == other.get_delta_days() else False\n",
    "        \n",
    "obj1 = Date(15, 4, 1983)\n",
    "obj2 = Date(12, 8, 1979)\n",
    "print(obj1 - 3200)\n",
    "print(obj1.short_date,'\\n',obj1,'\\n',obj2.weekday)"
   ]
  },
  {
   "cell_type": "code",
   "execution_count": 51,
   "metadata": {},
   "outputs": [],
   "source": [
    "from __future__ import annotations\n",
    "\n",
    "class IntegerStack:\n",
    "    '''\n",
    "    Pila de enteros:\n",
    "    ╔═════╗\n",
    "    ║ TOP ║\n",
    "    ╠═════╣\n",
    "    ║   4 ║\n",
    "    ║   3 ║\n",
    "    ║   5 ║\n",
    "    ║   7 ║\n",
    "    ╚═════╝\n",
    "    '''\n",
    "    items = []\n",
    "\n",
    "    def __init__(self, items: list[int], *, max_size: int = 10):\n",
    "        '''Utilizar atributo items para guardar los elementos'''\n",
    "        self.max_size = max_size\n",
    "        self.items = items\n",
    "        self.cont = 0\n",
    "\n",
    "    def push(self, item: int) -> bool:\n",
    "        '''Añade item a la pila.\n",
    "        Si la pila está llena retornar False, en otro caso retornar True'''\n",
    "        return False if len(self.items) >= len(self.max_size) else self.items.append(item) and True\n",
    "\n",
    "    def pop(self) -> int:\n",
    "        '''Extraer el elemento que está en el TOP de la pila'''\n",
    "        top1 = self.items[0]\n",
    "        self.items = self.items[1:]\n",
    "        return top1\n",
    "\n",
    "    def top(self) -> int:\n",
    "        '''Devolver el elemento que está en el TOP de la pila (sin extracción)'''\n",
    "        return self.items[0]\n",
    "\n",
    "    def is_empty(self) -> bool:\n",
    "        '''Indica si la pila está vacía'''\n",
    "        return True if not self.items else None\n",
    "\n",
    "    def is_full(self) -> bool:\n",
    "        '''Indica si la pila está llena -> max_size'''\n",
    "        return True if self.items else None\n",
    "\n",
    "    def expand(self, factor: int = 2) -> None:\n",
    "        '''Expande el tamaño máximo de la pila en el factor indicado'''\n",
    "        self.max_size += 2\n",
    "\n",
    "    def dump_to_file(self, path: str) -> None:\n",
    "        '''Vuelca la pila a un fichero.\n",
    "        - Cada item en una línea.\n",
    "        - El primer elemento del fichero corresponde con el TOP de la pila.'''\n",
    "        #path = 'C:/Users/senriquez/Desktop/Python scrpts/SAP-Python/IntegerStack.dat'\n",
    "        with open(path, 'w', encoding='UTF-8') as f:\n",
    "            for item in self.items:\n",
    "                f.write(str(item) + '\\n')\n",
    "\n",
    "    @classmethod\n",
    "    def load_from_file(cls, path: str) -> IntegerStack:\n",
    "        '''Crea una pila desde un fichero.\n",
    "        - Un item por línea.\n",
    "        - El primer elemento del fichero corresponde con el TOP de la pila.\n",
    "        - Si la pila se llena al ir añadiendo elementos habrá que expandir con los valores\n",
    "        por defecto'''\n",
    "        with open(path, 'r', encoding='UTF-8') as f:\n",
    "            for item in f:\n",
    "                cls.items\n",
    "\n",
    "    def __getitem__(self, index: int) -> int:\n",
    "        '''Devuelve el elemento de la pila en el índice indicado'''\n",
    "        return self.items[index]\n",
    "\n",
    "    def __setitem__(self, index: int, item: int) -> None:\n",
    "        '''Establece el valor de un elemento de la pila mediante el índice indicado'''\n",
    "        self.items[index] = item\n",
    "\n",
    "    def __len__(self):\n",
    "        '''Número de elementos que contiene la pila'''\n",
    "        return len(self.items)\n",
    "\n",
    "    def __str__(self):\n",
    "        '''Cada elemento en una línea distinta empezando por el TOP de la pila'''\n",
    "        lista = [str(item) for item in self.items]\n",
    "        return '\\n'.join(lista)\n",
    "\n",
    "    def __add__(self, other: IntegerStack) -> IntegerStack:\n",
    "        '''Sumar dos pilas.\n",
    "        - La segunda pila va \"encima\" de la primera\n",
    "        - El tamaño máximo de la pila resultante es la suma de los tamaños\n",
    "        máximos de cada pila.'''\n",
    "        return other.items + self.items\n",
    "\n",
    "    def __iter__(self) -> object:\n",
    "        return self\n",
    "\n",
    "    def __next__(self) -> IntegerStack:\n",
    "        if self.cont >= len(self.items):\n",
    "            raise StopIteration\n",
    "        current_integer = self.items[self.cont]\n",
    "        self.cont += 1\n",
    "        return current_integer\n",
    "\n",
    "\n",
    "\n",
    "obj1 = IntegerStack([100, 20, 15, 5, 10, 12, 40, 50, 150, 1000])\n",
    "obj2 = IntegerStack([30, 20, 15, 5, 10, 12, 40, 50, 150, 45])\n",
    "obj1.dump_to_file('C:/Users/senriquez/Desktop/Python scrpts/SAP-Python/IntegerStack.dat')\n"
   ]
  },
  {
   "cell_type": "code",
   "execution_count": null,
   "metadata": {},
   "outputs": [],
   "source": []
  }
 ],
 "metadata": {
  "kernelspec": {
   "display_name": "Python 3",
   "language": "python",
   "name": "python3"
  },
  "language_info": {
   "codemirror_mode": {
    "name": "ipython",
    "version": 3
   },
   "file_extension": ".py",
   "mimetype": "text/x-python",
   "name": "python",
   "nbconvert_exporter": "python",
   "pygments_lexer": "ipython3",
   "version": "3.11.5"
  }
 },
 "nbformat": 4,
 "nbformat_minor": 2
}
